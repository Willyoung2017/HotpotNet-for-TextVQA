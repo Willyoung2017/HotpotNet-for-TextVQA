{
  "nbformat": 4,
  "nbformat_minor": 0,
  "metadata": {
    "colab": {
      "name": "TextVQA_TextAnalysis.ipynb",
      "provenance": [],
      "collapsed_sections": [],
      "include_colab_link": true
    },
    "kernelspec": {
      "name": "python3",
      "display_name": "Python 3"
    },
    "language_info": {
      "name": "python"
    }
  },
  "cells": [
    {
      "cell_type": "markdown",
      "metadata": {
        "id": "view-in-github",
        "colab_type": "text"
      },
      "source": [
        "<a href=\"https://colab.research.google.com/github/Willyoung2017/Team_Hotpot_11777/blob/main/TextVQA_TextAnalysis.ipynb\" target=\"_parent\"><img src=\"https://colab.research.google.com/assets/colab-badge.svg\" alt=\"Open In Colab\"/></a>"
      ]
    },
    {
      "cell_type": "code",
      "source": [
        "from google.colab import drive\n",
        "drive.mount('/content/drive')"
      ],
      "metadata": {
        "colab": {
          "base_uri": "https://localhost:8080/"
        },
        "id": "u9wLK14Qg_Oz",
        "outputId": "afed666b-42bf-4e19-ee02-95f4f4574ef7"
      },
      "execution_count": null,
      "outputs": [
        {
          "output_type": "stream",
          "name": "stdout",
          "text": [
            "Mounted at /content/drive\n"
          ]
        }
      ]
    },
    {
      "cell_type": "code",
      "execution_count": null,
      "metadata": {
        "id": "KKU2-Y3e57c6"
      },
      "outputs": [],
      "source": [
        "import json\n",
        "import pandas as pd\n",
        "import matplotlib.pyplot as plt\n",
        "import seaborn as sb\n",
        "# import re\n",
        "import spacy\n",
        "# from collections import Counter"
      ]
    },
    {
      "cell_type": "code",
      "source": [
        "# Load English language pretrained model from spacy\n",
        "nlp = spacy.load(\"en_core_web_sm\")\n",
        "\n",
        "from pandas.io.json import json_normalize"
      ],
      "metadata": {
        "id": "zCzXo0vgXB18"
      },
      "execution_count": null,
      "outputs": []
    },
    {
      "cell_type": "code",
      "source": [
        "with open('/content/drive/MyDrive/11777/TextVQA_0.5.1_val.json') as val, \\\n",
        "    open('/content/drive/MyDrive/11777/TextVQA_0.5.1_train.json') as train, \\\n",
        "    open('/content/drive/MyDrive/11777/TextVQA_0.5.1_test.json') as test:\n",
        "    val_list = json.load(val)\n",
        "    train_list = json.load(train)\n",
        "    test_list = json.load(test)"
      ],
      "metadata": {
        "id": "4hF3h0jbXQaA"
      },
      "execution_count": null,
      "outputs": []
    },
    {
      "cell_type": "code",
      "source": [
        "val_data = pd.json_normalize(val_list, record_path='data')\n",
        "train_data = pd.json_normalize(train_list, record_path='data')\n",
        "test_data = pd.json_normalize(test_list, record_path='data')"
      ],
      "metadata": {
        "id": "HtmMj0q3XlD_"
      },
      "execution_count": null,
      "outputs": []
    },
    {
      "cell_type": "code",
      "source": [
        "val_data.info()"
      ],
      "metadata": {
        "colab": {
          "base_uri": "https://localhost:8080/"
        },
        "id": "Dp9oijaZaqWt",
        "outputId": "a79bedbf-4db2-4cbb-eb6d-861f29cbe6a8"
      },
      "execution_count": null,
      "outputs": [
        {
          "output_type": "stream",
          "name": "stdout",
          "text": [
            "<class 'pandas.core.frame.DataFrame'>\n",
            "RangeIndex: 5000 entries, 0 to 4999\n",
            "Data columns (total 11 columns):\n",
            " #   Column               Non-Null Count  Dtype \n",
            "---  ------               --------------  ----- \n",
            " 0   question_id          5000 non-null   int64 \n",
            " 1   question             5000 non-null   object\n",
            " 2   question_tokens      5000 non-null   object\n",
            " 3   answers              5000 non-null   object\n",
            " 4   image_id             5000 non-null   object\n",
            " 5   image_classes        5000 non-null   object\n",
            " 6   image_width          5000 non-null   int64 \n",
            " 7   image_height         5000 non-null   int64 \n",
            " 8   flickr_original_url  5000 non-null   object\n",
            " 9   flickr_300k_url      5000 non-null   object\n",
            " 10  set_name             5000 non-null   object\n",
            "dtypes: int64(3), object(8)\n",
            "memory usage: 429.8+ KB\n"
          ]
        }
      ]
    },
    {
      "cell_type": "code",
      "source": [
        "val_text = val_data[['question_id', 'question', 'question_tokens', 'answers', 'set_name']]\n",
        "train_text = train_data[['question_id', 'question', 'question_tokens', 'answers', 'set_name']]\n",
        "test_text = test_data[['question_id', 'question', 'question_tokens', 'set_name']]"
      ],
      "metadata": {
        "id": "vTSfB6q0be-w"
      },
      "execution_count": null,
      "outputs": []
    },
    {
      "cell_type": "code",
      "source": [
        "train_text.describe()"
      ],
      "metadata": {
        "colab": {
          "base_uri": "https://localhost:8080/",
          "height": 300
        },
        "id": "GOezjr22irU6",
        "outputId": "25b140be-9058-40c4-d38c-ca56fa13108d"
      },
      "execution_count": null,
      "outputs": [
        {
          "output_type": "execute_result",
          "data": {
            "text/html": [
              "\n",
              "  <div id=\"df-c51db9dd-17ee-447c-ac72-289e04a8a6bb\">\n",
              "    <div class=\"colab-df-container\">\n",
              "      <div>\n",
              "<style scoped>\n",
              "    .dataframe tbody tr th:only-of-type {\n",
              "        vertical-align: middle;\n",
              "    }\n",
              "\n",
              "    .dataframe tbody tr th {\n",
              "        vertical-align: top;\n",
              "    }\n",
              "\n",
              "    .dataframe thead th {\n",
              "        text-align: right;\n",
              "    }\n",
              "</style>\n",
              "<table border=\"1\" class=\"dataframe\">\n",
              "  <thead>\n",
              "    <tr style=\"text-align: right;\">\n",
              "      <th></th>\n",
              "      <th>question_id</th>\n",
              "      <th>question_len</th>\n",
              "      <th>answer_num</th>\n",
              "    </tr>\n",
              "  </thead>\n",
              "  <tbody>\n",
              "    <tr>\n",
              "      <th>count</th>\n",
              "      <td>34602.000000</td>\n",
              "      <td>34602.000000</td>\n",
              "      <td>34602.0</td>\n",
              "    </tr>\n",
              "    <tr>\n",
              "      <th>mean</th>\n",
              "      <td>17300.500000</td>\n",
              "      <td>7.184758</td>\n",
              "      <td>10.0</td>\n",
              "    </tr>\n",
              "    <tr>\n",
              "      <th>std</th>\n",
              "      <td>9988.881344</td>\n",
              "      <td>2.394865</td>\n",
              "      <td>0.0</td>\n",
              "    </tr>\n",
              "    <tr>\n",
              "      <th>min</th>\n",
              "      <td>0.000000</td>\n",
              "      <td>2.000000</td>\n",
              "      <td>10.0</td>\n",
              "    </tr>\n",
              "    <tr>\n",
              "      <th>25%</th>\n",
              "      <td>8650.250000</td>\n",
              "      <td>6.000000</td>\n",
              "      <td>10.0</td>\n",
              "    </tr>\n",
              "    <tr>\n",
              "      <th>50%</th>\n",
              "      <td>17300.500000</td>\n",
              "      <td>7.000000</td>\n",
              "      <td>10.0</td>\n",
              "    </tr>\n",
              "    <tr>\n",
              "      <th>75%</th>\n",
              "      <td>25950.750000</td>\n",
              "      <td>8.000000</td>\n",
              "      <td>10.0</td>\n",
              "    </tr>\n",
              "    <tr>\n",
              "      <th>max</th>\n",
              "      <td>34601.000000</td>\n",
              "      <td>33.000000</td>\n",
              "      <td>10.0</td>\n",
              "    </tr>\n",
              "  </tbody>\n",
              "</table>\n",
              "</div>\n",
              "      <button class=\"colab-df-convert\" onclick=\"convertToInteractive('df-c51db9dd-17ee-447c-ac72-289e04a8a6bb')\"\n",
              "              title=\"Convert this dataframe to an interactive table.\"\n",
              "              style=\"display:none;\">\n",
              "        \n",
              "  <svg xmlns=\"http://www.w3.org/2000/svg\" height=\"24px\"viewBox=\"0 0 24 24\"\n",
              "       width=\"24px\">\n",
              "    <path d=\"M0 0h24v24H0V0z\" fill=\"none\"/>\n",
              "    <path d=\"M18.56 5.44l.94 2.06.94-2.06 2.06-.94-2.06-.94-.94-2.06-.94 2.06-2.06.94zm-11 1L8.5 8.5l.94-2.06 2.06-.94-2.06-.94L8.5 2.5l-.94 2.06-2.06.94zm10 10l.94 2.06.94-2.06 2.06-.94-2.06-.94-.94-2.06-.94 2.06-2.06.94z\"/><path d=\"M17.41 7.96l-1.37-1.37c-.4-.4-.92-.59-1.43-.59-.52 0-1.04.2-1.43.59L10.3 9.45l-7.72 7.72c-.78.78-.78 2.05 0 2.83L4 21.41c.39.39.9.59 1.41.59.51 0 1.02-.2 1.41-.59l7.78-7.78 2.81-2.81c.8-.78.8-2.07 0-2.86zM5.41 20L4 18.59l7.72-7.72 1.47 1.35L5.41 20z\"/>\n",
              "  </svg>\n",
              "      </button>\n",
              "      \n",
              "  <style>\n",
              "    .colab-df-container {\n",
              "      display:flex;\n",
              "      flex-wrap:wrap;\n",
              "      gap: 12px;\n",
              "    }\n",
              "\n",
              "    .colab-df-convert {\n",
              "      background-color: #E8F0FE;\n",
              "      border: none;\n",
              "      border-radius: 50%;\n",
              "      cursor: pointer;\n",
              "      display: none;\n",
              "      fill: #1967D2;\n",
              "      height: 32px;\n",
              "      padding: 0 0 0 0;\n",
              "      width: 32px;\n",
              "    }\n",
              "\n",
              "    .colab-df-convert:hover {\n",
              "      background-color: #E2EBFA;\n",
              "      box-shadow: 0px 1px 2px rgba(60, 64, 67, 0.3), 0px 1px 3px 1px rgba(60, 64, 67, 0.15);\n",
              "      fill: #174EA6;\n",
              "    }\n",
              "\n",
              "    [theme=dark] .colab-df-convert {\n",
              "      background-color: #3B4455;\n",
              "      fill: #D2E3FC;\n",
              "    }\n",
              "\n",
              "    [theme=dark] .colab-df-convert:hover {\n",
              "      background-color: #434B5C;\n",
              "      box-shadow: 0px 1px 3px 1px rgba(0, 0, 0, 0.15);\n",
              "      filter: drop-shadow(0px 1px 2px rgba(0, 0, 0, 0.3));\n",
              "      fill: #FFFFFF;\n",
              "    }\n",
              "  </style>\n",
              "\n",
              "      <script>\n",
              "        const buttonEl =\n",
              "          document.querySelector('#df-c51db9dd-17ee-447c-ac72-289e04a8a6bb button.colab-df-convert');\n",
              "        buttonEl.style.display =\n",
              "          google.colab.kernel.accessAllowed ? 'block' : 'none';\n",
              "\n",
              "        async function convertToInteractive(key) {\n",
              "          const element = document.querySelector('#df-c51db9dd-17ee-447c-ac72-289e04a8a6bb');\n",
              "          const dataTable =\n",
              "            await google.colab.kernel.invokeFunction('convertToInteractive',\n",
              "                                                     [key], {});\n",
              "          if (!dataTable) return;\n",
              "\n",
              "          const docLinkHtml = 'Like what you see? Visit the ' +\n",
              "            '<a target=\"_blank\" href=https://colab.research.google.com/notebooks/data_table.ipynb>data table notebook</a>'\n",
              "            + ' to learn more about interactive tables.';\n",
              "          element.innerHTML = '';\n",
              "          dataTable['output_type'] = 'display_data';\n",
              "          await google.colab.output.renderOutput(dataTable, element);\n",
              "          const docLink = document.createElement('div');\n",
              "          docLink.innerHTML = docLinkHtml;\n",
              "          element.appendChild(docLink);\n",
              "        }\n",
              "      </script>\n",
              "    </div>\n",
              "  </div>\n",
              "  "
            ],
            "text/plain": [
              "        question_id  question_len  answer_num\n",
              "count  34602.000000  34602.000000     34602.0\n",
              "mean   17300.500000      7.184758        10.0\n",
              "std     9988.881344      2.394865         0.0\n",
              "min        0.000000      2.000000        10.0\n",
              "25%     8650.250000      6.000000        10.0\n",
              "50%    17300.500000      7.000000        10.0\n",
              "75%    25950.750000      8.000000        10.0\n",
              "max    34601.000000     33.000000        10.0"
            ]
          },
          "metadata": {},
          "execution_count": 21
        }
      ]
    },
    {
      "cell_type": "code",
      "source": [
        "val_text.describe()"
      ],
      "metadata": {
        "colab": {
          "base_uri": "https://localhost:8080/",
          "height": 300
        },
        "id": "rCbrUySGagaD",
        "outputId": "80223c91-8b62-44df-d365-b6512bea0d80"
      },
      "execution_count": null,
      "outputs": [
        {
          "output_type": "execute_result",
          "data": {
            "text/html": [
              "\n",
              "  <div id=\"df-e9a5c124-457e-4c39-bfbd-f3d50eeba5e3\">\n",
              "    <div class=\"colab-df-container\">\n",
              "      <div>\n",
              "<style scoped>\n",
              "    .dataframe tbody tr th:only-of-type {\n",
              "        vertical-align: middle;\n",
              "    }\n",
              "\n",
              "    .dataframe tbody tr th {\n",
              "        vertical-align: top;\n",
              "    }\n",
              "\n",
              "    .dataframe thead th {\n",
              "        text-align: right;\n",
              "    }\n",
              "</style>\n",
              "<table border=\"1\" class=\"dataframe\">\n",
              "  <thead>\n",
              "    <tr style=\"text-align: right;\">\n",
              "      <th></th>\n",
              "      <th>question_id</th>\n",
              "      <th>question_len</th>\n",
              "      <th>answer_num</th>\n",
              "    </tr>\n",
              "  </thead>\n",
              "  <tbody>\n",
              "    <tr>\n",
              "      <th>count</th>\n",
              "      <td>5000.000000</td>\n",
              "      <td>5000.000000</td>\n",
              "      <td>5000.0</td>\n",
              "    </tr>\n",
              "    <tr>\n",
              "      <th>mean</th>\n",
              "      <td>37101.500000</td>\n",
              "      <td>7.211000</td>\n",
              "      <td>10.0</td>\n",
              "    </tr>\n",
              "    <tr>\n",
              "      <th>std</th>\n",
              "      <td>1443.520003</td>\n",
              "      <td>2.448852</td>\n",
              "      <td>0.0</td>\n",
              "    </tr>\n",
              "    <tr>\n",
              "      <th>min</th>\n",
              "      <td>34602.000000</td>\n",
              "      <td>2.000000</td>\n",
              "      <td>10.0</td>\n",
              "    </tr>\n",
              "    <tr>\n",
              "      <th>25%</th>\n",
              "      <td>35851.750000</td>\n",
              "      <td>6.000000</td>\n",
              "      <td>10.0</td>\n",
              "    </tr>\n",
              "    <tr>\n",
              "      <th>50%</th>\n",
              "      <td>37101.500000</td>\n",
              "      <td>7.000000</td>\n",
              "      <td>10.0</td>\n",
              "    </tr>\n",
              "    <tr>\n",
              "      <th>75%</th>\n",
              "      <td>38351.250000</td>\n",
              "      <td>8.000000</td>\n",
              "      <td>10.0</td>\n",
              "    </tr>\n",
              "    <tr>\n",
              "      <th>max</th>\n",
              "      <td>39601.000000</td>\n",
              "      <td>37.000000</td>\n",
              "      <td>10.0</td>\n",
              "    </tr>\n",
              "  </tbody>\n",
              "</table>\n",
              "</div>\n",
              "      <button class=\"colab-df-convert\" onclick=\"convertToInteractive('df-e9a5c124-457e-4c39-bfbd-f3d50eeba5e3')\"\n",
              "              title=\"Convert this dataframe to an interactive table.\"\n",
              "              style=\"display:none;\">\n",
              "        \n",
              "  <svg xmlns=\"http://www.w3.org/2000/svg\" height=\"24px\"viewBox=\"0 0 24 24\"\n",
              "       width=\"24px\">\n",
              "    <path d=\"M0 0h24v24H0V0z\" fill=\"none\"/>\n",
              "    <path d=\"M18.56 5.44l.94 2.06.94-2.06 2.06-.94-2.06-.94-.94-2.06-.94 2.06-2.06.94zm-11 1L8.5 8.5l.94-2.06 2.06-.94-2.06-.94L8.5 2.5l-.94 2.06-2.06.94zm10 10l.94 2.06.94-2.06 2.06-.94-2.06-.94-.94-2.06-.94 2.06-2.06.94z\"/><path d=\"M17.41 7.96l-1.37-1.37c-.4-.4-.92-.59-1.43-.59-.52 0-1.04.2-1.43.59L10.3 9.45l-7.72 7.72c-.78.78-.78 2.05 0 2.83L4 21.41c.39.39.9.59 1.41.59.51 0 1.02-.2 1.41-.59l7.78-7.78 2.81-2.81c.8-.78.8-2.07 0-2.86zM5.41 20L4 18.59l7.72-7.72 1.47 1.35L5.41 20z\"/>\n",
              "  </svg>\n",
              "      </button>\n",
              "      \n",
              "  <style>\n",
              "    .colab-df-container {\n",
              "      display:flex;\n",
              "      flex-wrap:wrap;\n",
              "      gap: 12px;\n",
              "    }\n",
              "\n",
              "    .colab-df-convert {\n",
              "      background-color: #E8F0FE;\n",
              "      border: none;\n",
              "      border-radius: 50%;\n",
              "      cursor: pointer;\n",
              "      display: none;\n",
              "      fill: #1967D2;\n",
              "      height: 32px;\n",
              "      padding: 0 0 0 0;\n",
              "      width: 32px;\n",
              "    }\n",
              "\n",
              "    .colab-df-convert:hover {\n",
              "      background-color: #E2EBFA;\n",
              "      box-shadow: 0px 1px 2px rgba(60, 64, 67, 0.3), 0px 1px 3px 1px rgba(60, 64, 67, 0.15);\n",
              "      fill: #174EA6;\n",
              "    }\n",
              "\n",
              "    [theme=dark] .colab-df-convert {\n",
              "      background-color: #3B4455;\n",
              "      fill: #D2E3FC;\n",
              "    }\n",
              "\n",
              "    [theme=dark] .colab-df-convert:hover {\n",
              "      background-color: #434B5C;\n",
              "      box-shadow: 0px 1px 3px 1px rgba(0, 0, 0, 0.15);\n",
              "      filter: drop-shadow(0px 1px 2px rgba(0, 0, 0, 0.3));\n",
              "      fill: #FFFFFF;\n",
              "    }\n",
              "  </style>\n",
              "\n",
              "      <script>\n",
              "        const buttonEl =\n",
              "          document.querySelector('#df-e9a5c124-457e-4c39-bfbd-f3d50eeba5e3 button.colab-df-convert');\n",
              "        buttonEl.style.display =\n",
              "          google.colab.kernel.accessAllowed ? 'block' : 'none';\n",
              "\n",
              "        async function convertToInteractive(key) {\n",
              "          const element = document.querySelector('#df-e9a5c124-457e-4c39-bfbd-f3d50eeba5e3');\n",
              "          const dataTable =\n",
              "            await google.colab.kernel.invokeFunction('convertToInteractive',\n",
              "                                                     [key], {});\n",
              "          if (!dataTable) return;\n",
              "\n",
              "          const docLinkHtml = 'Like what you see? Visit the ' +\n",
              "            '<a target=\"_blank\" href=https://colab.research.google.com/notebooks/data_table.ipynb>data table notebook</a>'\n",
              "            + ' to learn more about interactive tables.';\n",
              "          element.innerHTML = '';\n",
              "          dataTable['output_type'] = 'display_data';\n",
              "          await google.colab.output.renderOutput(dataTable, element);\n",
              "          const docLink = document.createElement('div');\n",
              "          docLink.innerHTML = docLinkHtml;\n",
              "          element.appendChild(docLink);\n",
              "        }\n",
              "      </script>\n",
              "    </div>\n",
              "  </div>\n",
              "  "
            ],
            "text/plain": [
              "        question_id  question_len  answer_num\n",
              "count   5000.000000   5000.000000      5000.0\n",
              "mean   37101.500000      7.211000        10.0\n",
              "std     1443.520003      2.448852         0.0\n",
              "min    34602.000000      2.000000        10.0\n",
              "25%    35851.750000      6.000000        10.0\n",
              "50%    37101.500000      7.000000        10.0\n",
              "75%    38351.250000      8.000000        10.0\n",
              "max    39601.000000     37.000000        10.0"
            ]
          },
          "metadata": {},
          "execution_count": 18
        }
      ]
    },
    {
      "cell_type": "code",
      "source": [
        "val_text.head()"
      ],
      "metadata": {
        "colab": {
          "base_uri": "https://localhost:8080/",
          "height": 617
        },
        "id": "mCOgBYX8aI_d",
        "outputId": "dfed3abe-9840-4b4a-9f23-afd78a94e38c"
      },
      "execution_count": null,
      "outputs": [
        {
          "output_type": "execute_result",
          "data": {
            "text/html": [
              "\n",
              "  <div id=\"df-5bb88d8c-bef2-4e64-927c-227ca5c996f7\">\n",
              "    <div class=\"colab-df-container\">\n",
              "      <div>\n",
              "<style scoped>\n",
              "    .dataframe tbody tr th:only-of-type {\n",
              "        vertical-align: middle;\n",
              "    }\n",
              "\n",
              "    .dataframe tbody tr th {\n",
              "        vertical-align: top;\n",
              "    }\n",
              "\n",
              "    .dataframe thead th {\n",
              "        text-align: right;\n",
              "    }\n",
              "</style>\n",
              "<table border=\"1\" class=\"dataframe\">\n",
              "  <thead>\n",
              "    <tr style=\"text-align: right;\">\n",
              "      <th></th>\n",
              "      <th>question_id</th>\n",
              "      <th>question</th>\n",
              "      <th>question_tokens</th>\n",
              "      <th>answers</th>\n",
              "      <th>set_name</th>\n",
              "      <th>question_len</th>\n",
              "      <th>answer_num</th>\n",
              "    </tr>\n",
              "  </thead>\n",
              "  <tbody>\n",
              "    <tr>\n",
              "      <th>0</th>\n",
              "      <td>34602</td>\n",
              "      <td>what is the brand of this camera?</td>\n",
              "      <td>[what, is, the, brand, of, this, camera]</td>\n",
              "      <td>[nous les gosses, dakota, clos culombu, dakota...</td>\n",
              "      <td>val</td>\n",
              "      <td>7</td>\n",
              "      <td>10</td>\n",
              "    </tr>\n",
              "    <tr>\n",
              "      <th>1</th>\n",
              "      <td>34603</td>\n",
              "      <td>what does the small white text spell?</td>\n",
              "      <td>[what, does, the, small, white, text, spell]</td>\n",
              "      <td>[copenhagen, copenhagen, copenhagen, copenhage...</td>\n",
              "      <td>val</td>\n",
              "      <td>7</td>\n",
              "      <td>10</td>\n",
              "    </tr>\n",
              "    <tr>\n",
              "      <th>2</th>\n",
              "      <td>34604</td>\n",
              "      <td>what kind of beer is this?</td>\n",
              "      <td>[what, kind, of, beer, is, this]</td>\n",
              "      <td>[ale, sublimely self-righteous ale, stone, ale...</td>\n",
              "      <td>val</td>\n",
              "      <td>6</td>\n",
              "      <td>10</td>\n",
              "    </tr>\n",
              "    <tr>\n",
              "      <th>3</th>\n",
              "      <td>34605</td>\n",
              "      <td>what brand liquor is on the right?</td>\n",
              "      <td>[what, brand, liquor, is, on, the, right]</td>\n",
              "      <td>[bowmore , bowmore, bowmore, bowmore, bowmore,...</td>\n",
              "      <td>val</td>\n",
              "      <td>7</td>\n",
              "      <td>10</td>\n",
              "    </tr>\n",
              "    <tr>\n",
              "      <th>4</th>\n",
              "      <td>34606</td>\n",
              "      <td>how long has the drink on the right been aged?</td>\n",
              "      <td>[how, long, has, the, drink, on, the, right, b...</td>\n",
              "      <td>[10 years, 10 year, 10 years, 10 years , 10 ye...</td>\n",
              "      <td>val</td>\n",
              "      <td>10</td>\n",
              "      <td>10</td>\n",
              "    </tr>\n",
              "  </tbody>\n",
              "</table>\n",
              "</div>\n",
              "      <button class=\"colab-df-convert\" onclick=\"convertToInteractive('df-5bb88d8c-bef2-4e64-927c-227ca5c996f7')\"\n",
              "              title=\"Convert this dataframe to an interactive table.\"\n",
              "              style=\"display:none;\">\n",
              "        \n",
              "  <svg xmlns=\"http://www.w3.org/2000/svg\" height=\"24px\"viewBox=\"0 0 24 24\"\n",
              "       width=\"24px\">\n",
              "    <path d=\"M0 0h24v24H0V0z\" fill=\"none\"/>\n",
              "    <path d=\"M18.56 5.44l.94 2.06.94-2.06 2.06-.94-2.06-.94-.94-2.06-.94 2.06-2.06.94zm-11 1L8.5 8.5l.94-2.06 2.06-.94-2.06-.94L8.5 2.5l-.94 2.06-2.06.94zm10 10l.94 2.06.94-2.06 2.06-.94-2.06-.94-.94-2.06-.94 2.06-2.06.94z\"/><path d=\"M17.41 7.96l-1.37-1.37c-.4-.4-.92-.59-1.43-.59-.52 0-1.04.2-1.43.59L10.3 9.45l-7.72 7.72c-.78.78-.78 2.05 0 2.83L4 21.41c.39.39.9.59 1.41.59.51 0 1.02-.2 1.41-.59l7.78-7.78 2.81-2.81c.8-.78.8-2.07 0-2.86zM5.41 20L4 18.59l7.72-7.72 1.47 1.35L5.41 20z\"/>\n",
              "  </svg>\n",
              "      </button>\n",
              "      \n",
              "  <style>\n",
              "    .colab-df-container {\n",
              "      display:flex;\n",
              "      flex-wrap:wrap;\n",
              "      gap: 12px;\n",
              "    }\n",
              "\n",
              "    .colab-df-convert {\n",
              "      background-color: #E8F0FE;\n",
              "      border: none;\n",
              "      border-radius: 50%;\n",
              "      cursor: pointer;\n",
              "      display: none;\n",
              "      fill: #1967D2;\n",
              "      height: 32px;\n",
              "      padding: 0 0 0 0;\n",
              "      width: 32px;\n",
              "    }\n",
              "\n",
              "    .colab-df-convert:hover {\n",
              "      background-color: #E2EBFA;\n",
              "      box-shadow: 0px 1px 2px rgba(60, 64, 67, 0.3), 0px 1px 3px 1px rgba(60, 64, 67, 0.15);\n",
              "      fill: #174EA6;\n",
              "    }\n",
              "\n",
              "    [theme=dark] .colab-df-convert {\n",
              "      background-color: #3B4455;\n",
              "      fill: #D2E3FC;\n",
              "    }\n",
              "\n",
              "    [theme=dark] .colab-df-convert:hover {\n",
              "      background-color: #434B5C;\n",
              "      box-shadow: 0px 1px 3px 1px rgba(0, 0, 0, 0.15);\n",
              "      filter: drop-shadow(0px 1px 2px rgba(0, 0, 0, 0.3));\n",
              "      fill: #FFFFFF;\n",
              "    }\n",
              "  </style>\n",
              "\n",
              "      <script>\n",
              "        const buttonEl =\n",
              "          document.querySelector('#df-5bb88d8c-bef2-4e64-927c-227ca5c996f7 button.colab-df-convert');\n",
              "        buttonEl.style.display =\n",
              "          google.colab.kernel.accessAllowed ? 'block' : 'none';\n",
              "\n",
              "        async function convertToInteractive(key) {\n",
              "          const element = document.querySelector('#df-5bb88d8c-bef2-4e64-927c-227ca5c996f7');\n",
              "          const dataTable =\n",
              "            await google.colab.kernel.invokeFunction('convertToInteractive',\n",
              "                                                     [key], {});\n",
              "          if (!dataTable) return;\n",
              "\n",
              "          const docLinkHtml = 'Like what you see? Visit the ' +\n",
              "            '<a target=\"_blank\" href=https://colab.research.google.com/notebooks/data_table.ipynb>data table notebook</a>'\n",
              "            + ' to learn more about interactive tables.';\n",
              "          element.innerHTML = '';\n",
              "          dataTable['output_type'] = 'display_data';\n",
              "          await google.colab.output.renderOutput(dataTable, element);\n",
              "          const docLink = document.createElement('div');\n",
              "          docLink.innerHTML = docLinkHtml;\n",
              "          element.appendChild(docLink);\n",
              "        }\n",
              "      </script>\n",
              "    </div>\n",
              "  </div>\n",
              "  "
            ],
            "text/plain": [
              "   question_id  ... answer_num\n",
              "0        34602  ...         10\n",
              "1        34603  ...         10\n",
              "2        34604  ...         10\n",
              "3        34605  ...         10\n",
              "4        34606  ...         10\n",
              "\n",
              "[5 rows x 7 columns]"
            ]
          },
          "metadata": {},
          "execution_count": 111
        }
      ]
    },
    {
      "cell_type": "code",
      "source": [
        "val_text['question_len'] = val_text.question_tokens.apply(len)\n",
        "train_text['question_len'] = train_text.question_tokens.apply(len)\n",
        "test_text['question_len'] = test_text.question_tokens.apply(len)"
      ],
      "metadata": {
        "id": "Ei_cz-QXkOZh"
      },
      "execution_count": null,
      "outputs": []
    },
    {
      "cell_type": "code",
      "source": [
        "val_text['answer_num'] = val_text.answers.apply(len)\n",
        "train_text['answer_num'] = train_text.answers.apply(len)"
      ],
      "metadata": {
        "id": "bClNBaNKk5Sh"
      },
      "execution_count": null,
      "outputs": []
    },
    {
      "cell_type": "code",
      "source": [
        "val_questions = list(nlp.pipe(val_data.question))\n",
        "train_questions = list(nlp.pipe(train_data.question))\n",
        "test_questions = list(nlp.pipe(test_data.question))"
      ],
      "metadata": {
        "id": "sVmMA-8orLhN"
      },
      "execution_count": null,
      "outputs": []
    },
    {
      "cell_type": "code",
      "source": [
        "type(val_questions[0])"
      ],
      "metadata": {
        "colab": {
          "base_uri": "https://localhost:8080/"
        },
        "id": "ApyS-1Q8xfxK",
        "outputId": "437b204f-b76e-43e6-ef1b-6feabf8303dd"
      },
      "execution_count": null,
      "outputs": [
        {
          "output_type": "execute_result",
          "data": {
            "text/plain": [
              "spacy.tokens.doc.Doc"
            ]
          },
          "metadata": {},
          "execution_count": 38
        }
      ]
    },
    {
      "cell_type": "code",
      "source": [
        "val_10_answers = val_text[\"answers\"].apply(pd.Series)"
      ],
      "metadata": {
        "id": "ueddTi1CpwCs"
      },
      "execution_count": null,
      "outputs": []
    },
    {
      "cell_type": "code",
      "source": [
        "expanded_val_answers = val_10_answers.melt()"
      ],
      "metadata": {
        "id": "-5NLSAczkQb_"
      },
      "execution_count": null,
      "outputs": []
    },
    {
      "cell_type": "code",
      "source": [
        "expanded_train_answers = train_10_answers.melt()"
      ],
      "metadata": {
        "id": "kuDNlXD3k8yR"
      },
      "execution_count": null,
      "outputs": []
    },
    {
      "cell_type": "code",
      "source": [
        "train_10_answers = train_text[\"answers\"].apply(pd.Series)"
      ],
      "metadata": {
        "id": "LP01gcdjz7lc"
      },
      "execution_count": null,
      "outputs": []
    },
    {
      "cell_type": "code",
      "source": [
        "val_answers = df_to_docs(val_10_answers)\n",
        "train_answers = df_to_docs(train_10_answers)"
      ],
      "metadata": {
        "id": "zi5bJIhcyNzN"
      },
      "execution_count": null,
      "outputs": []
    },
    {
      "cell_type": "code",
      "source": [
        "print(len(val_answers))\n",
        "print(val_10_answers.shape)"
      ],
      "metadata": {
        "colab": {
          "base_uri": "https://localhost:8080/"
        },
        "id": "DnYOZmuj2KDC",
        "outputId": "a041b19d-15dd-41e2-dbac-2b1920f69241"
      },
      "execution_count": null,
      "outputs": [
        {
          "output_type": "stream",
          "name": "stdout",
          "text": [
            "50000\n",
            "(5000, 10)\n"
          ]
        }
      ]
    },
    {
      "cell_type": "code",
      "source": [
        "val_q_token_data = tab_token_data(val_questions)\n",
        "train_q_token_data = tab_token_data(train_questions)\n",
        "test_q_token_data = tab_token_data(test_questions)\n",
        "val_a_token_data = tab_token_data(val_answers)\n",
        "train_a_token_data = tab_token_data(train_answers)"
      ],
      "metadata": {
        "id": "vR4p0ItsxH8O"
      },
      "execution_count": null,
      "outputs": []
    },
    {
      "cell_type": "code",
      "source": [
        "val_q_token_data.query(\"pos != 'PUNCT'\").pos.value_counts()"
      ],
      "metadata": {
        "colab": {
          "base_uri": "https://localhost:8080/"
        },
        "id": "0vTk8OXvxHs_",
        "outputId": "a0e4a61b-3c89-4468-9033-16d6330c55a5"
      },
      "execution_count": null,
      "outputs": [
        {
          "output_type": "execute_result",
          "data": {
            "text/plain": [
              "NOUN     9997\n",
              "DET      8338\n",
              "AUX      4829\n",
              "ADP      4255\n",
              "PRON     2902\n",
              "VERB     2207\n",
              "ADJ      1379\n",
              "ADV       600\n",
              "PROPN     583\n",
              "PART      252\n",
              "NUM       181\n",
              "CCONJ      68\n",
              "SCONJ      53\n",
              "SYM        18\n",
              "SPACE       9\n",
              "X           8\n",
              "INTJ        6\n",
              "Name: pos, dtype: int64"
            ]
          },
          "metadata": {},
          "execution_count": 56
        }
      ]
    },
    {
      "cell_type": "code",
      "source": [
        "import csv\n",
        "def analyze_questions(text_df, token_data, prefix, path):\n",
        "    \n",
        "    avg_question_len = text_df['question_len'].mean()\n",
        "    median_question_len = text_df['question_len'].median()\n",
        "    std_dev_question_len = text_df['question_len'].std()\n",
        "    with open(path + prefix + 'question_metrics.txt', 'w') as metrics_file:\n",
        "        tsv_writer = csv.writer(metrics_file, delimiter='\\t')\n",
        "        tsv_writer.writerow(['avg question length: ' + \"%.2f\" % avg_question_len])\n",
        "        tsv_writer.writerow(['median question length: ' + \"%.2f\" % median_question_len])\n",
        "        tsv_writer.writerow(['std dev of question length: ' + \"%.2f\" % std_dev_question_len])\n",
        "\n",
        "    \n",
        "    plt.clf()\n",
        "    # text_df['capped_question_len'] = text_df.apply(lambda x: x['question_len'] if x['question_len'] <= 20 else 20, axis=1)\n",
        "    text_df.capped_question_len.hist(figsize=(14, 7), range=(0, 20), color=\"red\", alpha=.4, bins=20)\n",
        "    plt.savefig(path + prefix + 'question_length.png')\n",
        "    \n",
        "\n",
        "    plt.clf()\n",
        "    text_df.question.value_counts().head(10).plot(kind=\"barh\", figsize=(30, 14), color='green', alpha=.7)\n",
        "    plt.yticks(fontsize=15)\n",
        "    plt.xticks(fontsize=15)\n",
        "    plt.savefig(path + prefix + '10_most_frequent_questions.png')\n",
        "\n",
        "    \n",
        "    plt.clf()\n",
        "    first_word = token_data[token_data['token_order'] == 0].token.value_counts()\n",
        "    first_word = first_word / first_word.sum()\n",
        "    ax = first_word.head(10).plot(kind=\"barh\", figsize=(24, 14), alpha=.7)\n",
        "    ax.invert_yaxis()\n",
        "    plt.savefig(path + prefix + 'distribution_of_10_most_frequent_question_starting_words.png')\n",
        "    \n",
        "    plt.clf()\n",
        "    word_token = token_data.query(\"pos != 'PUNCT'\").pos.value_counts()\n",
        "    word_token = word_token / word_token.sum()\n",
        "    ax = word_token.head(10).plot(kind=\"barh\", figsize=(24, 14), color='orange', alpha=.7)\n",
        "    ax.invert_yaxis()\n",
        "    plt.savefig(path + prefix + 'distribution_of_10_most_frequent_word_classes_in_questions.png')\n",
        "    \n",
        "    \n",
        "\n",
        "path = '/content/drive/MyDrive/11777/'\n",
        "analyze_questions(val_text, val_q_token_data, 'val_', path)\n",
        "analyze_questions(train_text, train_q_token_data, 'train_', path)\n",
        "analyze_questions(test_text, test_q_token_data, 'test_', path)"
      ],
      "metadata": {
        "colab": {
          "base_uri": "https://localhost:8080/",
          "height": 405
        },
        "id": "CG55ZU_45Xmk",
        "outputId": "0b93fc95-be88-414e-976e-c683cdbf6ed8"
      },
      "execution_count": null,
      "outputs": [
        {
          "output_type": "display_data",
          "data": {
            "image/png": "[encoded data removed]",
            "text/plain": [
              "<Figure size 1728x1008 with 1 Axes>"
            ]
          },
          "metadata": {
            "needs_background": "light"
          }
        }
      ]
    },
    {
      "cell_type": "code",
      "source": [
        "def analyze_answers(expanded_answers, text_df, token_data, prefix, path):\n",
        "    \n",
        "    avg_answer_len = token_data.groupby('doc_id').size().mean()\n",
        "    median_answer_len = token_data.groupby('doc_id').size().median()\n",
        "    std_dev_answer_len = token_data.groupby('doc_id').size().std()\n",
        "    with open(path + prefix + 'answer_metrics.txt', 'w') as metrics_file:\n",
        "        tsv_writer = csv.writer(metrics_file, delimiter='\\t')\n",
        "        tsv_writer.writerow(['avg answer length: ' + \"%.2f\" % avg_answer_len])\n",
        "        tsv_writer.writerow(['median answer length: ' + \"%.2f\" % median_answer_len])\n",
        "        tsv_writer.writerow(['std dev of answer length: ' + \"%.2f\" % std_dev_answer_len])\n",
        "\n",
        "    \n",
        "    plt.clf()\n",
        "    counts = expanded_val_answers.value.value_counts()\n",
        "    counts = counts / 10\n",
        "    counts.head(10).plot(kind=\"barh\", figsize=(32, 14), color='green', alpha=.7)\n",
        "    plt.yticks(fontsize=10)\n",
        "    plt.xticks(fontsize=10)\n",
        "    plt.savefig(path + prefix + '10_most_frequent_answers.png')\n",
        "    \n",
        "    plt.clf()\n",
        "    word_token = token_data.query(\"pos != 'PUNCT'\").pos.value_counts()\n",
        "    word_token = word_token / word_token.sum()\n",
        "    ax = word_token.head(10).plot(kind=\"barh\", figsize=(24, 14), color='orange', alpha=.7)\n",
        "    ax.invert_yaxis()\n",
        "    plt.savefig(path + prefix + 'distribution_of_10_most_frequent_word_classes_in_answers.png')\n",
        "    \n",
        "    \n",
        "\n",
        "path = '/content/drive/MyDrive/11777/'\n",
        "analyze_answers(expanded_val_answers, val_text, val_a_token_data, 'val_', path)\n",
        "analyze_answers(expanded_train_answers, train_text, train_a_token_data, 'train_', path)"
      ],
      "metadata": {
        "id": "4H1HEBvVgjZ3"
      },
      "execution_count": null,
      "outputs": []
    },
    {
      "cell_type": "code",
      "source": [
        "val_a_token_data.groupby('doc_id').size().mean()"
      ],
      "metadata": {
        "id": "aK2QpyIZqpaW"
      },
      "execution_count": null,
      "outputs": []
    },
    {
      "cell_type": "code",
      "source": [
        "val_q_first_word = val_q_token_data[val_q_token_data['token_order'] == 0].token.value_counts()"
      ],
      "metadata": {
        "id": "XfcYwK6YOwQt"
      },
      "execution_count": null,
      "outputs": []
    },
    {
      "cell_type": "code",
      "source": [
        "val_q_first_word = val_q_first_word / val_q_first_word.size"
      ],
      "metadata": {
        "id": "rfYGKhB7Q8jz"
      },
      "execution_count": null,
      "outputs": []
    },
    {
      "cell_type": "code",
      "source": [
        "val_q_first_word.head()"
      ],
      "metadata": {
        "colab": {
          "base_uri": "https://localhost:8080/"
        },
        "id": "jN1Efgi0TfQ_",
        "outputId": "3d7402a9-a65f-4850-d5dc-166d1fb4cfe8"
      },
      "execution_count": null,
      "outputs": [
        {
          "output_type": "execute_result",
          "data": {
            "text/plain": [
              "what     0.7854\n",
              "who      0.0478\n",
              "how      0.0368\n",
              "is       0.0324\n",
              "which      0.02\n",
              "Name: token, dtype: object"
            ]
          },
          "metadata": {},
          "execution_count": 85
        }
      ]
    },
    {
      "cell_type": "code",
      "source": [
        "ax = val_q_first_word.head(10).plot(kind=\"barh\", figsize=(24, 14), alpha=.7)\n",
        "ax.invert_yaxis()\n",
        "plt.save()"
      ],
      "metadata": {
        "colab": {
          "base_uri": "https://localhost:8080/",
          "height": 405
        },
        "id": "fJtLx6ebPMMn",
        "outputId": "8c49e84b-9c8c-4c74-ebdb-c0eb4e75294c"
      },
      "execution_count": null,
      "outputs": [
        {
          "output_type": "display_data",
          "data": {
            "image/png": "[encoded data removed]",
            "text/plain": [
              "<Figure size 1728x1008 with 1 Axes>"
            ]
          },
          "metadata": {
            "needs_background": "light"
          }
        }
      ]
    },
    {
      "cell_type": "code",
      "source": [
        "val_q_token_data.info()"
      ],
      "metadata": {
        "colab": {
          "base_uri": "https://localhost:8080/"
        },
        "id": "_MjUHu2MznU9",
        "outputId": "ec309b02-d3b0-40d6-867c-501c81b6a167"
      },
      "execution_count": null,
      "outputs": [
        {
          "output_type": "stream",
          "name": "stdout",
          "text": [
            "<class 'pandas.core.frame.DataFrame'>\n",
            "Int64Index: 40842 entries, 0 to 5\n",
            "Data columns (total 4 columns):\n",
            " #   Column       Non-Null Count  Dtype \n",
            "---  ------       --------------  ----- \n",
            " 0   doc_id       40842 non-null  int64 \n",
            " 1   token        40842 non-null  object\n",
            " 2   token_order  40842 non-null  int64 \n",
            " 3   pos          40842 non-null  object\n",
            "dtypes: int64(2), object(2)\n",
            "memory usage: 1.6+ MB\n"
          ]
        }
      ]
    },
    {
      "cell_type": "code",
      "source": [
        "def df_to_docs(df):\n",
        "    docs = []\n",
        "    for name, series in df.items():\n",
        "        docs = docs + list(nlp.pipe(series))\n",
        "    return docs"
      ],
      "metadata": {
        "id": "Nq3YuqAtwTC-"
      },
      "execution_count": null,
      "outputs": []
    },
    {
      "cell_type": "code",
      "source": [
        "def extract_tokens_plus_meta(doc):\n",
        "    return [\n",
        "        (i.text, i.i, i.pos_) for i in doc\n",
        "    ]"
      ],
      "metadata": {
        "id": "_HLFL0anrbFT"
      },
      "execution_count": null,
      "outputs": []
    },
    {
      "cell_type": "code",
      "source": [
        "def tab_token_data(docs):\n",
        "    \"\"\"Extract tokens and metadata from list of spaCy docs.\"\"\"\n",
        "    \n",
        "    cols = [\n",
        "        \"doc_id\", \"token\", \"token_order\", \"pos\"\n",
        "    ]\n",
        "    \n",
        "    meta_df = []\n",
        "    for ix, doc in enumerate(docs):\n",
        "        meta = extract_tokens_plus_meta(doc)\n",
        "        meta = pd.DataFrame(meta)\n",
        "        meta.columns = cols[1:]\n",
        "        meta = meta.assign(doc_id = ix).loc[:, cols]\n",
        "        meta_df.append(meta)\n",
        "        \n",
        "    return pd.concat(meta_df)  "
      ],
      "metadata": {
        "id": "4T3tnRTHrZwb"
      },
      "execution_count": null,
      "outputs": []
    },
    {
      "cell_type": "code",
      "source": [
        "spacy.explain('PART')"
      ],
      "metadata": {
        "id": "05JI9WgxxHYW",
        "colab": {
          "base_uri": "https://localhost:8080/",
          "height": 35
        },
        "outputId": "f3b9ba71-c59e-4c3d-e634-d32f630697b5"
      },
      "execution_count": null,
      "outputs": [
        {
          "output_type": "execute_result",
          "data": {
            "application/vnd.google.colaboratory.intrinsic+json": {
              "type": "string"
            },
            "text/plain": [
              "'particle'"
            ]
          },
          "metadata": {},
          "execution_count": 14
        }
      ]
    },
    {
      "cell_type": "code",
      "source": [
        ""
      ],
      "metadata": {
        "id": "9CkO_W_UwEe9"
      },
      "execution_count": null,
      "outputs": []
    }
  ]
}
