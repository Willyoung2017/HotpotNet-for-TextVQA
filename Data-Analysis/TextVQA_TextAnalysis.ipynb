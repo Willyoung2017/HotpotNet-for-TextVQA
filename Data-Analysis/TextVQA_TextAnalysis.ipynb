{
  "nbformat": 4,
  "nbformat_minor": 0,
  "metadata": {
    "colab": {
      "name": "TextVQA_TextAnalysis.ipynb",
      "provenance": [],
      "collapsed_sections": []
    },
    "kernelspec": {
      "name": "python3",
      "display_name": "Python 3"
    },
    "language_info": {
      "name": "python"
    }
  },
  "cells": [
    {
      "cell_type": "code",
      "source": [
        "from google.colab import drive\n",
        "drive.mount('/content/drive')"
      ],
      "metadata": {
        "id": "u9wLK14Qg_Oz",
        "colab": {
          "base_uri": "https://localhost:8080/"
        },
        "outputId": "ab997d58-3c1e-4f21-ae6d-4a162c19d180"
      },
      "execution_count": null,
      "outputs": [
        {
          "output_type": "stream",
          "name": "stdout",
          "text": [
            "Drive already mounted at /content/drive; to attempt to forcibly remount, call drive.mount(\"/content/drive\", force_remount=True).\n"
          ]
        }
      ]
    },
    {
      "cell_type": "code",
      "execution_count": 132,
      "metadata": {
        "id": "KKU2-Y3e57c6"
      },
      "outputs": [],
      "source": [
        "import json\n",
        "import csv\n",
        "import pandas as pd\n",
        "import matplotlib\n",
        "import matplotlib.pyplot as plt\n",
        "# import seaborn as sb\n",
        "import spacy"
      ]
    },
    {
      "cell_type": "code",
      "source": [
        "# Load English language pretrained model from spacy\n",
        "nlp = spacy.load(\"en_core_web_sm\")"
      ],
      "metadata": {
        "id": "zCzXo0vgXB18"
      },
      "execution_count": null,
      "outputs": []
    },
    {
      "cell_type": "code",
      "source": [
        "# Load json data\n",
        "# Note: may need to edit the file paths\n",
        "with open('/content/drive/MyDrive/11777/TextVQA_0.5.1_val.json') as val, \\\n",
        "    open('/content/drive/MyDrive/11777/TextVQA_0.5.1_train.json') as train, \\\n",
        "    open('/content/drive/MyDrive/11777/TextVQA_0.5.1_test.json') as test:\n",
        "    val_list = json.load(val)\n",
        "    train_list = json.load(train)\n",
        "    test_list = json.load(test)"
      ],
      "metadata": {
        "id": "4hF3h0jbXQaA"
      },
      "execution_count": null,
      "outputs": []
    },
    {
      "cell_type": "code",
      "source": [
        "# Convert json data to pandas dfs\n",
        "val_data = pd.json_normalize(val_list, record_path='data')\n",
        "train_data = pd.json_normalize(train_list, record_path='data')\n",
        "test_data = pd.json_normalize(test_list, record_path='data')"
      ],
      "metadata": {
        "id": "HtmMj0q3XlD_"
      },
      "execution_count": null,
      "outputs": []
    },
    {
      "cell_type": "code",
      "source": [
        "# val_data.info()"
      ],
      "metadata": {
        "id": "Dp9oijaZaqWt"
      },
      "execution_count": null,
      "outputs": []
    },
    {
      "cell_type": "code",
      "source": [
        "# For this analysis, select text-related columns from the _data dfs to create _text dfs\n",
        "val_text = val_data[['question_id', 'question', 'question_tokens', 'answers', 'set_name']]\n",
        "train_text = train_data[['question_id', 'question', 'question_tokens', 'answers', 'set_name']]\n",
        "test_text = test_data[['question_id', 'question', 'question_tokens', 'set_name']]"
      ],
      "metadata": {
        "id": "vTSfB6q0be-w"
      },
      "execution_count": 199,
      "outputs": []
    },
    {
      "cell_type": "code",
      "source": [
        "# Add a column on question length, and another column that caps question length at 20\n",
        "for text_df in [val_text, train_text, test_text]:\n",
        "    text_df['question_len'] = text_df.question_tokens.apply(len)\n",
        "    text_df['capped_question_len'] = text_df.apply(lambda x: x['question_len'] if x['question_len'] <= 20 else 20, axis=1)"
      ],
      "metadata": {
        "id": "Ei_cz-QXkOZh",
        "colab": {
          "base_uri": "https://localhost:8080/"
        },
        "outputId": "517be22f-b272-41b6-b1fd-48f92b2c7f8f"
      },
      "execution_count": null,
      "outputs": [
        {
          "output_type": "stream",
          "name": "stderr",
          "text": [
            "/usr/local/lib/python3.7/dist-packages/ipykernel_launcher.py:3: SettingWithCopyWarning: \n",
            "A value is trying to be set on a copy of a slice from a DataFrame.\n",
            "Try using .loc[row_indexer,col_indexer] = value instead\n",
            "\n",
            "See the caveats in the documentation: https://pandas.pydata.org/pandas-docs/stable/user_guide/indexing.html#returning-a-view-versus-a-copy\n",
            "  This is separate from the ipykernel package so we can avoid doing imports until\n",
            "/usr/local/lib/python3.7/dist-packages/ipykernel_launcher.py:4: SettingWithCopyWarning: \n",
            "A value is trying to be set on a copy of a slice from a DataFrame.\n",
            "Try using .loc[row_indexer,col_indexer] = value instead\n",
            "\n",
            "See the caveats in the documentation: https://pandas.pydata.org/pandas-docs/stable/user_guide/indexing.html#returning-a-view-versus-a-copy\n",
            "  after removing the cwd from sys.path.\n"
          ]
        }
      ]
    },
    {
      "cell_type": "code",
      "source": [
        "# Add a column on the number of answers for each question\n",
        "val_text['answer_num'] = val_text.answers.apply(len)\n",
        "train_text['answer_num'] = train_text.answers.apply(len)"
      ],
      "metadata": {
        "id": "bClNBaNKk5Sh",
        "colab": {
          "base_uri": "https://localhost:8080/"
        },
        "outputId": "2292b4f4-c010-47c2-e8eb-231fb619651a"
      },
      "execution_count": null,
      "outputs": [
        {
          "output_type": "stream",
          "name": "stderr",
          "text": [
            "/usr/local/lib/python3.7/dist-packages/ipykernel_launcher.py:2: SettingWithCopyWarning: \n",
            "A value is trying to be set on a copy of a slice from a DataFrame.\n",
            "Try using .loc[row_indexer,col_indexer] = value instead\n",
            "\n",
            "See the caveats in the documentation: https://pandas.pydata.org/pandas-docs/stable/user_guide/indexing.html#returning-a-view-versus-a-copy\n",
            "  \n",
            "/usr/local/lib/python3.7/dist-packages/ipykernel_launcher.py:3: SettingWithCopyWarning: \n",
            "A value is trying to be set on a copy of a slice from a DataFrame.\n",
            "Try using .loc[row_indexer,col_indexer] = value instead\n",
            "\n",
            "See the caveats in the documentation: https://pandas.pydata.org/pandas-docs/stable/user_guide/indexing.html#returning-a-view-versus-a-copy\n",
            "  This is separate from the ipykernel package so we can avoid doing imports until\n"
          ]
        }
      ]
    },
    {
      "cell_type": "code",
      "source": [
        "# This cell and the next confirm that each question has 10 answers\n",
        "val_text.describe()"
      ],
      "metadata": {
        "id": "4ZlIjMFHlu14",
        "colab": {
          "base_uri": "https://localhost:8080/",
          "height": 300
        },
        "outputId": "162844a2-eda5-4687-8191-f5677d437a46"
      },
      "execution_count": null,
      "outputs": [
        {
          "output_type": "execute_result",
          "data": {
            "text/html": [
              "\n",
              "  <div id=\"df-67194f7e-c40e-4fbf-a0ea-2728547ecfb4\">\n",
              "    <div class=\"colab-df-container\">\n",
              "      <div>\n",
              "<style scoped>\n",
              "    .dataframe tbody tr th:only-of-type {\n",
              "        vertical-align: middle;\n",
              "    }\n",
              "\n",
              "    .dataframe tbody tr th {\n",
              "        vertical-align: top;\n",
              "    }\n",
              "\n",
              "    .dataframe thead th {\n",
              "        text-align: right;\n",
              "    }\n",
              "</style>\n",
              "<table border=\"1\" class=\"dataframe\">\n",
              "  <thead>\n",
              "    <tr style=\"text-align: right;\">\n",
              "      <th></th>\n",
              "      <th>question_id</th>\n",
              "      <th>question_len</th>\n",
              "      <th>capped_question_len</th>\n",
              "      <th>answer_num</th>\n",
              "    </tr>\n",
              "  </thead>\n",
              "  <tbody>\n",
              "    <tr>\n",
              "      <th>count</th>\n",
              "      <td>5000.000000</td>\n",
              "      <td>5000.000000</td>\n",
              "      <td>5000.000000</td>\n",
              "      <td>5000.0</td>\n",
              "    </tr>\n",
              "    <tr>\n",
              "      <th>mean</th>\n",
              "      <td>37101.500000</td>\n",
              "      <td>7.211000</td>\n",
              "      <td>7.207400</td>\n",
              "      <td>10.0</td>\n",
              "    </tr>\n",
              "    <tr>\n",
              "      <th>std</th>\n",
              "      <td>1443.520003</td>\n",
              "      <td>2.448852</td>\n",
              "      <td>2.418006</td>\n",
              "      <td>0.0</td>\n",
              "    </tr>\n",
              "    <tr>\n",
              "      <th>min</th>\n",
              "      <td>34602.000000</td>\n",
              "      <td>2.000000</td>\n",
              "      <td>2.000000</td>\n",
              "      <td>10.0</td>\n",
              "    </tr>\n",
              "    <tr>\n",
              "      <th>25%</th>\n",
              "      <td>35851.750000</td>\n",
              "      <td>6.000000</td>\n",
              "      <td>6.000000</td>\n",
              "      <td>10.0</td>\n",
              "    </tr>\n",
              "    <tr>\n",
              "      <th>50%</th>\n",
              "      <td>37101.500000</td>\n",
              "      <td>7.000000</td>\n",
              "      <td>7.000000</td>\n",
              "      <td>10.0</td>\n",
              "    </tr>\n",
              "    <tr>\n",
              "      <th>75%</th>\n",
              "      <td>38351.250000</td>\n",
              "      <td>8.000000</td>\n",
              "      <td>8.000000</td>\n",
              "      <td>10.0</td>\n",
              "    </tr>\n",
              "    <tr>\n",
              "      <th>max</th>\n",
              "      <td>39601.000000</td>\n",
              "      <td>37.000000</td>\n",
              "      <td>20.000000</td>\n",
              "      <td>10.0</td>\n",
              "    </tr>\n",
              "  </tbody>\n",
              "</table>\n",
              "</div>\n",
              "      <button class=\"colab-df-convert\" onclick=\"convertToInteractive('df-67194f7e-c40e-4fbf-a0ea-2728547ecfb4')\"\n",
              "              title=\"Convert this dataframe to an interactive table.\"\n",
              "              style=\"display:none;\">\n",
              "        \n",
              "  <svg xmlns=\"http://www.w3.org/2000/svg\" height=\"24px\"viewBox=\"0 0 24 24\"\n",
              "       width=\"24px\">\n",
              "    <path d=\"M0 0h24v24H0V0z\" fill=\"none\"/>\n",
              "    <path d=\"M18.56 5.44l.94 2.06.94-2.06 2.06-.94-2.06-.94-.94-2.06-.94 2.06-2.06.94zm-11 1L8.5 8.5l.94-2.06 2.06-.94-2.06-.94L8.5 2.5l-.94 2.06-2.06.94zm10 10l.94 2.06.94-2.06 2.06-.94-2.06-.94-.94-2.06-.94 2.06-2.06.94z\"/><path d=\"M17.41 7.96l-1.37-1.37c-.4-.4-.92-.59-1.43-.59-.52 0-1.04.2-1.43.59L10.3 9.45l-7.72 7.72c-.78.78-.78 2.05 0 2.83L4 21.41c.39.39.9.59 1.41.59.51 0 1.02-.2 1.41-.59l7.78-7.78 2.81-2.81c.8-.78.8-2.07 0-2.86zM5.41 20L4 18.59l7.72-7.72 1.47 1.35L5.41 20z\"/>\n",
              "  </svg>\n",
              "      </button>\n",
              "      \n",
              "  <style>\n",
              "    .colab-df-container {\n",
              "      display:flex;\n",
              "      flex-wrap:wrap;\n",
              "      gap: 12px;\n",
              "    }\n",
              "\n",
              "    .colab-df-convert {\n",
              "      background-color: #E8F0FE;\n",
              "      border: none;\n",
              "      border-radius: 50%;\n",
              "      cursor: pointer;\n",
              "      display: none;\n",
              "      fill: #1967D2;\n",
              "      height: 32px;\n",
              "      padding: 0 0 0 0;\n",
              "      width: 32px;\n",
              "    }\n",
              "\n",
              "    .colab-df-convert:hover {\n",
              "      background-color: #E2EBFA;\n",
              "      box-shadow: 0px 1px 2px rgba(60, 64, 67, 0.3), 0px 1px 3px 1px rgba(60, 64, 67, 0.15);\n",
              "      fill: #174EA6;\n",
              "    }\n",
              "\n",
              "    [theme=dark] .colab-df-convert {\n",
              "      background-color: #3B4455;\n",
              "      fill: #D2E3FC;\n",
              "    }\n",
              "\n",
              "    [theme=dark] .colab-df-convert:hover {\n",
              "      background-color: #434B5C;\n",
              "      box-shadow: 0px 1px 3px 1px rgba(0, 0, 0, 0.15);\n",
              "      filter: drop-shadow(0px 1px 2px rgba(0, 0, 0, 0.3));\n",
              "      fill: #FFFFFF;\n",
              "    }\n",
              "  </style>\n",
              "\n",
              "      <script>\n",
              "        const buttonEl =\n",
              "          document.querySelector('#df-67194f7e-c40e-4fbf-a0ea-2728547ecfb4 button.colab-df-convert');\n",
              "        buttonEl.style.display =\n",
              "          google.colab.kernel.accessAllowed ? 'block' : 'none';\n",
              "\n",
              "        async function convertToInteractive(key) {\n",
              "          const element = document.querySelector('#df-67194f7e-c40e-4fbf-a0ea-2728547ecfb4');\n",
              "          const dataTable =\n",
              "            await google.colab.kernel.invokeFunction('convertToInteractive',\n",
              "                                                     [key], {});\n",
              "          if (!dataTable) return;\n",
              "\n",
              "          const docLinkHtml = 'Like what you see? Visit the ' +\n",
              "            '<a target=\"_blank\" href=https://colab.research.google.com/notebooks/data_table.ipynb>data table notebook</a>'\n",
              "            + ' to learn more about interactive tables.';\n",
              "          element.innerHTML = '';\n",
              "          dataTable['output_type'] = 'display_data';\n",
              "          await google.colab.output.renderOutput(dataTable, element);\n",
              "          const docLink = document.createElement('div');\n",
              "          docLink.innerHTML = docLinkHtml;\n",
              "          element.appendChild(docLink);\n",
              "        }\n",
              "      </script>\n",
              "    </div>\n",
              "  </div>\n",
              "  "
            ],
            "text/plain": [
              "        question_id  question_len  capped_question_len  answer_num\n",
              "count   5000.000000   5000.000000          5000.000000      5000.0\n",
              "mean   37101.500000      7.211000             7.207400        10.0\n",
              "std     1443.520003      2.448852             2.418006         0.0\n",
              "min    34602.000000      2.000000             2.000000        10.0\n",
              "25%    35851.750000      6.000000             6.000000        10.0\n",
              "50%    37101.500000      7.000000             7.000000        10.0\n",
              "75%    38351.250000      8.000000             8.000000        10.0\n",
              "max    39601.000000     37.000000            20.000000        10.0"
            ]
          },
          "metadata": {},
          "execution_count": 40
        }
      ]
    },
    {
      "cell_type": "code",
      "source": [
        "train_text.describe()"
      ],
      "metadata": {
        "id": "hYQbB_CPlvje",
        "colab": {
          "base_uri": "https://localhost:8080/",
          "height": 300
        },
        "outputId": "fc82e214-4ec6-4f54-99ff-419d3c6d8eed"
      },
      "execution_count": null,
      "outputs": [
        {
          "output_type": "execute_result",
          "data": {
            "text/html": [
              "\n",
              "  <div id=\"df-2449a401-b26f-4783-b4a5-daa643a413f4\">\n",
              "    <div class=\"colab-df-container\">\n",
              "      <div>\n",
              "<style scoped>\n",
              "    .dataframe tbody tr th:only-of-type {\n",
              "        vertical-align: middle;\n",
              "    }\n",
              "\n",
              "    .dataframe tbody tr th {\n",
              "        vertical-align: top;\n",
              "    }\n",
              "\n",
              "    .dataframe thead th {\n",
              "        text-align: right;\n",
              "    }\n",
              "</style>\n",
              "<table border=\"1\" class=\"dataframe\">\n",
              "  <thead>\n",
              "    <tr style=\"text-align: right;\">\n",
              "      <th></th>\n",
              "      <th>question_id</th>\n",
              "      <th>question_len</th>\n",
              "      <th>capped_question_len</th>\n",
              "      <th>answer_num</th>\n",
              "    </tr>\n",
              "  </thead>\n",
              "  <tbody>\n",
              "    <tr>\n",
              "      <th>count</th>\n",
              "      <td>34602.000000</td>\n",
              "      <td>34602.000000</td>\n",
              "      <td>34602.000000</td>\n",
              "      <td>34602.0</td>\n",
              "    </tr>\n",
              "    <tr>\n",
              "      <th>mean</th>\n",
              "      <td>17300.500000</td>\n",
              "      <td>7.184758</td>\n",
              "      <td>7.183573</td>\n",
              "      <td>10.0</td>\n",
              "    </tr>\n",
              "    <tr>\n",
              "      <th>std</th>\n",
              "      <td>9988.881344</td>\n",
              "      <td>2.394865</td>\n",
              "      <td>2.386306</td>\n",
              "      <td>0.0</td>\n",
              "    </tr>\n",
              "    <tr>\n",
              "      <th>min</th>\n",
              "      <td>0.000000</td>\n",
              "      <td>2.000000</td>\n",
              "      <td>2.000000</td>\n",
              "      <td>10.0</td>\n",
              "    </tr>\n",
              "    <tr>\n",
              "      <th>25%</th>\n",
              "      <td>8650.250000</td>\n",
              "      <td>6.000000</td>\n",
              "      <td>6.000000</td>\n",
              "      <td>10.0</td>\n",
              "    </tr>\n",
              "    <tr>\n",
              "      <th>50%</th>\n",
              "      <td>17300.500000</td>\n",
              "      <td>7.000000</td>\n",
              "      <td>7.000000</td>\n",
              "      <td>10.0</td>\n",
              "    </tr>\n",
              "    <tr>\n",
              "      <th>75%</th>\n",
              "      <td>25950.750000</td>\n",
              "      <td>8.000000</td>\n",
              "      <td>8.000000</td>\n",
              "      <td>10.0</td>\n",
              "    </tr>\n",
              "    <tr>\n",
              "      <th>max</th>\n",
              "      <td>34601.000000</td>\n",
              "      <td>33.000000</td>\n",
              "      <td>20.000000</td>\n",
              "      <td>10.0</td>\n",
              "    </tr>\n",
              "  </tbody>\n",
              "</table>\n",
              "</div>\n",
              "      <button class=\"colab-df-convert\" onclick=\"convertToInteractive('df-2449a401-b26f-4783-b4a5-daa643a413f4')\"\n",
              "              title=\"Convert this dataframe to an interactive table.\"\n",
              "              style=\"display:none;\">\n",
              "        \n",
              "  <svg xmlns=\"http://www.w3.org/2000/svg\" height=\"24px\"viewBox=\"0 0 24 24\"\n",
              "       width=\"24px\">\n",
              "    <path d=\"M0 0h24v24H0V0z\" fill=\"none\"/>\n",
              "    <path d=\"M18.56 5.44l.94 2.06.94-2.06 2.06-.94-2.06-.94-.94-2.06-.94 2.06-2.06.94zm-11 1L8.5 8.5l.94-2.06 2.06-.94-2.06-.94L8.5 2.5l-.94 2.06-2.06.94zm10 10l.94 2.06.94-2.06 2.06-.94-2.06-.94-.94-2.06-.94 2.06-2.06.94z\"/><path d=\"M17.41 7.96l-1.37-1.37c-.4-.4-.92-.59-1.43-.59-.52 0-1.04.2-1.43.59L10.3 9.45l-7.72 7.72c-.78.78-.78 2.05 0 2.83L4 21.41c.39.39.9.59 1.41.59.51 0 1.02-.2 1.41-.59l7.78-7.78 2.81-2.81c.8-.78.8-2.07 0-2.86zM5.41 20L4 18.59l7.72-7.72 1.47 1.35L5.41 20z\"/>\n",
              "  </svg>\n",
              "      </button>\n",
              "      \n",
              "  <style>\n",
              "    .colab-df-container {\n",
              "      display:flex;\n",
              "      flex-wrap:wrap;\n",
              "      gap: 12px;\n",
              "    }\n",
              "\n",
              "    .colab-df-convert {\n",
              "      background-color: #E8F0FE;\n",
              "      border: none;\n",
              "      border-radius: 50%;\n",
              "      cursor: pointer;\n",
              "      display: none;\n",
              "      fill: #1967D2;\n",
              "      height: 32px;\n",
              "      padding: 0 0 0 0;\n",
              "      width: 32px;\n",
              "    }\n",
              "\n",
              "    .colab-df-convert:hover {\n",
              "      background-color: #E2EBFA;\n",
              "      box-shadow: 0px 1px 2px rgba(60, 64, 67, 0.3), 0px 1px 3px 1px rgba(60, 64, 67, 0.15);\n",
              "      fill: #174EA6;\n",
              "    }\n",
              "\n",
              "    [theme=dark] .colab-df-convert {\n",
              "      background-color: #3B4455;\n",
              "      fill: #D2E3FC;\n",
              "    }\n",
              "\n",
              "    [theme=dark] .colab-df-convert:hover {\n",
              "      background-color: #434B5C;\n",
              "      box-shadow: 0px 1px 3px 1px rgba(0, 0, 0, 0.15);\n",
              "      filter: drop-shadow(0px 1px 2px rgba(0, 0, 0, 0.3));\n",
              "      fill: #FFFFFF;\n",
              "    }\n",
              "  </style>\n",
              "\n",
              "      <script>\n",
              "        const buttonEl =\n",
              "          document.querySelector('#df-2449a401-b26f-4783-b4a5-daa643a413f4 button.colab-df-convert');\n",
              "        buttonEl.style.display =\n",
              "          google.colab.kernel.accessAllowed ? 'block' : 'none';\n",
              "\n",
              "        async function convertToInteractive(key) {\n",
              "          const element = document.querySelector('#df-2449a401-b26f-4783-b4a5-daa643a413f4');\n",
              "          const dataTable =\n",
              "            await google.colab.kernel.invokeFunction('convertToInteractive',\n",
              "                                                     [key], {});\n",
              "          if (!dataTable) return;\n",
              "\n",
              "          const docLinkHtml = 'Like what you see? Visit the ' +\n",
              "            '<a target=\"_blank\" href=https://colab.research.google.com/notebooks/data_table.ipynb>data table notebook</a>'\n",
              "            + ' to learn more about interactive tables.';\n",
              "          element.innerHTML = '';\n",
              "          dataTable['output_type'] = 'display_data';\n",
              "          await google.colab.output.renderOutput(dataTable, element);\n",
              "          const docLink = document.createElement('div');\n",
              "          docLink.innerHTML = docLinkHtml;\n",
              "          element.appendChild(docLink);\n",
              "        }\n",
              "      </script>\n",
              "    </div>\n",
              "  </div>\n",
              "  "
            ],
            "text/plain": [
              "        question_id  question_len  capped_question_len  answer_num\n",
              "count  34602.000000  34602.000000         34602.000000     34602.0\n",
              "mean   17300.500000      7.184758             7.183573        10.0\n",
              "std     9988.881344      2.394865             2.386306         0.0\n",
              "min        0.000000      2.000000             2.000000        10.0\n",
              "25%     8650.250000      6.000000             6.000000        10.0\n",
              "50%    17300.500000      7.000000             7.000000        10.0\n",
              "75%    25950.750000      8.000000             8.000000        10.0\n",
              "max    34601.000000     33.000000            20.000000        10.0"
            ]
          },
          "metadata": {},
          "execution_count": 41
        }
      ]
    },
    {
      "cell_type": "code",
      "source": [
        "# Convert the question column to a list of docs\n",
        "val_questions = list(nlp.pipe(val_data.question))\n",
        "train_questions = list(nlp.pipe(train_data.question))\n",
        "test_questions = list(nlp.pipe(test_data.question))"
      ],
      "metadata": {
        "id": "sVmMA-8orLhN"
      },
      "execution_count": null,
      "outputs": []
    },
    {
      "cell_type": "code",
      "source": [
        "# type(val_questions[0])"
      ],
      "metadata": {
        "id": "ApyS-1Q8xfxK"
      },
      "execution_count": null,
      "outputs": []
    },
    {
      "cell_type": "code",
      "source": [
        "# Convert the answers column to a df with 10 columns, containing answers only\n",
        "# The expanded_ dfs have only one column that contains all answers\n",
        "s = 'answering does not require reading'\n",
        "func = lambda l: ['image not required' if x.startswith(s) else x for x in l]\n",
        "\n",
        "val_text['answers'] = val_text['answers'].apply(func)\n",
        "val_10_answers = val_text[\"answers\"].apply(pd.Series)\n",
        "expanded_val_answers = val_10_answers.melt()\n",
        "\n",
        "train_text['answers'] = train_text['answers'].apply(func)\n",
        "train_10_answers = train_text[\"answers\"].apply(pd.Series)\n",
        "expanded_train_answers = train_10_answers.melt()"
      ],
      "metadata": {
        "id": "ueddTi1CpwCs",
        "colab": {
          "base_uri": "https://localhost:8080/"
        },
        "outputId": "c98a165d-de66-474d-95ef-2273e3c0dccf"
      },
      "execution_count": 202,
      "outputs": [
        {
          "output_type": "stream",
          "name": "stderr",
          "text": [
            "/usr/local/lib/python3.7/dist-packages/ipykernel_launcher.py:6: SettingWithCopyWarning: \n",
            "A value is trying to be set on a copy of a slice from a DataFrame.\n",
            "Try using .loc[row_indexer,col_indexer] = value instead\n",
            "\n",
            "See the caveats in the documentation: https://pandas.pydata.org/pandas-docs/stable/user_guide/indexing.html#returning-a-view-versus-a-copy\n",
            "  \n",
            "/usr/local/lib/python3.7/dist-packages/ipykernel_launcher.py:10: SettingWithCopyWarning: \n",
            "A value is trying to be set on a copy of a slice from a DataFrame.\n",
            "Try using .loc[row_indexer,col_indexer] = value instead\n",
            "\n",
            "See the caveats in the documentation: https://pandas.pydata.org/pandas-docs/stable/user_guide/indexing.html#returning-a-view-versus-a-copy\n",
            "  # Remove the CWD from sys.path while we load stuff.\n"
          ]
        }
      ]
    },
    {
      "cell_type": "code",
      "source": [
        "# This function converts an entire df to a list of docs \n",
        "def df_to_docs(df):\n",
        "    docs = []\n",
        "    for name, series in df.items():\n",
        "        docs = docs + list(nlp.pipe(series))\n",
        "    return docs"
      ],
      "metadata": {
        "id": "Nq3YuqAtwTC-"
      },
      "execution_count": null,
      "outputs": []
    },
    {
      "cell_type": "code",
      "source": [
        "# Convert each answers df to a list of docs\n",
        "val_answers = df_to_docs(val_10_answers)\n",
        "train_answers = df_to_docs(train_10_answers)"
      ],
      "metadata": {
        "id": "zi5bJIhcyNzN"
      },
      "execution_count": null,
      "outputs": []
    },
    {
      "cell_type": "code",
      "source": [
        "# print(len(val_answers))\n",
        "# print(val_10_answers.shape)"
      ],
      "metadata": {
        "id": "DnYOZmuj2KDC"
      },
      "execution_count": null,
      "outputs": []
    },
    {
      "cell_type": "code",
      "source": [
        "# This function extracts the token data of interest from a doc\n",
        "def extract_tokens_plus_meta(doc):\n",
        "    return [\n",
        "        (i.text, i.i, i.pos_) for i in doc\n",
        "    ]"
      ],
      "metadata": {
        "id": "_HLFL0anrbFT"
      },
      "execution_count": null,
      "outputs": []
    },
    {
      "cell_type": "code",
      "source": [
        "# This function uses a list of docs to tabulate token data info of interest to a df\n",
        "def tab_token_data(docs):\n",
        "    \"\"\"Extract tokens and metadata from list of spaCy docs.\"\"\"\n",
        "    \n",
        "    cols = [\n",
        "        \"doc_id\", \"token\", \"token_order\", \"pos\"\n",
        "    ]\n",
        "    \n",
        "    meta_df = []\n",
        "    for ix, doc in enumerate(docs):\n",
        "        meta = extract_tokens_plus_meta(doc)\n",
        "        meta = pd.DataFrame(meta)\n",
        "        meta.columns = cols[1:]\n",
        "        meta = meta.assign(doc_id = ix).loc[:, cols]\n",
        "        meta_df.append(meta)\n",
        "        \n",
        "    return pd.concat(meta_df)  "
      ],
      "metadata": {
        "id": "4T3tnRTHrZwb"
      },
      "execution_count": null,
      "outputs": []
    },
    {
      "cell_type": "code",
      "source": [
        "# Create dfs that contain question/ answer token data of interest\n",
        "val_q_token_data = tab_token_data(val_questions)\n",
        "train_q_token_data = tab_token_data(train_questions)\n",
        "test_q_token_data = tab_token_data(test_questions)\n",
        "val_a_token_data = tab_token_data(val_answers)\n",
        "train_a_token_data = tab_token_data(train_answers)"
      ],
      "metadata": {
        "id": "vR4p0ItsxH8O"
      },
      "execution_count": null,
      "outputs": []
    },
    {
      "cell_type": "code",
      "source": [
        "# val_q_token_data.query(\"pos != 'PUNCT'\").pos.value_counts()"
      ],
      "metadata": {
        "id": "0vTk8OXvxHs_"
      },
      "execution_count": null,
      "outputs": []
    },
    {
      "cell_type": "code",
      "source": [
        "# For each dataset, analyze questions and create graphs and metrics files\n",
        "# Specifically, question length, the most frequent questions, question starting word, and the most frequent word classes in questions\n",
        "\n",
        "# def analyze_questions(text_df, token_data, prefix, path):\n",
        "    \n",
        "#     avg_question_len = text_df['question_len'].mean()\n",
        "#     median_question_len = text_df['question_len'].median()\n",
        "#     std_dev_question_len = text_df['question_len'].std()\n",
        "#     with open(path + prefix + 'question_metrics.txt', 'w') as metrics_file:\n",
        "#         tsv_writer = csv.writer(metrics_file, delimiter='\\t')\n",
        "#         tsv_writer.writerow(['avg question length: ' + \"%.2f\" % avg_question_len])\n",
        "#         tsv_writer.writerow(['median question length: ' + \"%.2f\" % median_question_len])\n",
        "#         tsv_writer.writerow(['std dev of question length: ' + \"%.2f\" % std_dev_question_len])\n",
        "    \n",
        "#     plt.clf()\n",
        "#     text_df.capped_question_len.hist(figsize=(14, 7), range=(0, 20), color=\"red\", alpha=.4, bins=20)\n",
        "#     plt.savefig(path + prefix + 'question_length.png')\n",
        "\n",
        "#     plt.clf()\n",
        "#     text_df.question.value_counts().head(10).plot(kind=\"barh\", figsize=(30, 14), color='green', alpha=.7)\n",
        "#     plt.yticks(fontsize=15)\n",
        "#     plt.xticks(fontsize=15)\n",
        "#     plt.savefig(path + prefix + '10_most_frequent_questions.png')\n",
        "    \n",
        "#     plt.clf()\n",
        "#     first_word = token_data[token_data['token_order'] == 0].token.value_counts()\n",
        "#     first_word = first_word / first_word.sum()\n",
        "#     ax = first_word.head(10).plot(kind=\"barh\", figsize=(24, 14), alpha=.7)\n",
        "#     ax.invert_yaxis()\n",
        "#     plt.savefig(path + prefix + 'distribution_of_10_most_frequent_question_starting_words.png')\n",
        "    \n",
        "#     plt.clf()\n",
        "#     word_token = token_data.query(\"pos != 'PUNCT'\").pos.value_counts()\n",
        "#     word_token = word_token / word_token.sum()\n",
        "#     ax = word_token.head(10).plot(kind=\"barh\", figsize=(24, 14), color='orange', alpha=.7)\n",
        "#     ax.invert_yaxis()\n",
        "#     plt.savefig(path + prefix + 'distribution_of_10_most_frequent_word_classes_in_questions.png')\n",
        "    \n",
        "    \n",
        "# # Note: may need to edit the file path\n",
        "# path = '/content/drive/MyDrive/11777/'\n",
        "# analyze_questions(val_text, val_q_token_data, 'val_', path)\n",
        "# analyze_questions(train_text, train_q_token_data, 'train_', path)\n",
        "# analyze_questions(test_text, test_q_token_data, 'test_', path)"
      ],
      "metadata": {
        "id": "CG55ZU_45Xmk"
      },
      "execution_count": 171,
      "outputs": []
    },
    {
      "cell_type": "code",
      "source": [
        "splits = [train_text, val_text, test_text]\n",
        "labels = ['train', 'val', 'test']\n",
        "colors = ['#ff9999', '#99cc99', '#9999d1']\n",
        "fig, axes = plt.subplots(nrows=1, ncols=3, figsize=(12, 4))\n",
        "for text_df, ax, label, color in zip(splits, axes, labels, colors):\n",
        "  text_df.question_len.hist(ax=ax, range=(0, 20), color=color, label=label, bins=20, zorder=3)\n",
        "  if label == 'train':\n",
        "    ax.set_ylabel('Number of questions')\n",
        "fig.legend()\n",
        "fig.suptitle('Number of words in question')\n",
        "plt.savefig('/content/drive/MyDrive/11777/qlength.pdf')"
      ],
      "metadata": {
        "id": "eTalc9sM4hga",
        "colab": {
          "base_uri": "https://localhost:8080/",
          "height": 295
        },
        "outputId": "0de75253-494c-47b8-ee6b-e9de4c5a0ea8"
      },
      "execution_count": 174,
      "outputs": [
        {
          "output_type": "display_data",
          "data": {
            "image/png": "[encoded data removed]",
            "text/plain": [
              "<Figure size 864x288 with 3 Axes>"
            ]
          },
          "metadata": {
            "needs_background": "light"
          }
        }
      ]
    },
    {
      "cell_type": "code",
      "source": [
        "fig, axes = plt.subplots(nrows=1, ncols=3, figsize=(12, 4))\n",
        "for text_df, ax, label, color in zip(splits, axes, labels, colors):\n",
        "  text_df.question.value_counts().head(10).plot(ax=ax, kind=\"bar\", label=label, color=color, zorder=3)\n",
        "  ax.grid(zorder=0)\n",
        "  if label == 'train':\n",
        "    ax.set_ylabel('Number of questions')\n",
        "fig.legend()\n",
        "fig.suptitle('Top 10 most frequent questions')\n",
        "plt.savefig('/content/drive/MyDrive/11777/top10q.pdf')"
      ],
      "metadata": {
        "colab": {
          "base_uri": "https://localhost:8080/",
          "height": 454
        },
        "id": "Em1KOyor9Vhk",
        "outputId": "bac4c0f1-6b2d-4dbc-ad7c-b50b6fda2903"
      },
      "execution_count": 156,
      "outputs": [
        {
          "output_type": "display_data",
          "data": {
            "image/png": "[encoded data removed]",
            "text/plain": [
              "<Figure size 864x288 with 3 Axes>"
            ]
          },
          "metadata": {
            "needs_background": "light"
          }
        }
      ]
    },
    {
      "cell_type": "code",
      "source": [
        "toke_data = [train_q_token_data, val_q_token_data, test_q_token_data]\n",
        "fig, axes = plt.subplots(nrows=1, ncols=3, figsize=(12, 4))\n",
        "for token_data, ax, label, color in zip(toke_data, axes, labels, colors):\n",
        "  first_word = token_data[token_data['token_order'] == 0].token.value_counts()\n",
        "  first_word = first_word / first_word.sum()\n",
        "  first_word.head(10).plot(ax=ax, kind=\"bar\", label=label, color=color, zorder=3)\n",
        "  ax.grid(zorder=0)\n",
        "  if label == 'train':\n",
        "    ax.set_ylabel('Percentage')\n",
        "fig.legend()\n",
        "fig.suptitle('Top 10 most frequent starting words')\n",
        "plt.savefig('/content/drive/MyDrive/11777/top10start.pdf')"
      ],
      "metadata": {
        "colab": {
          "base_uri": "https://localhost:8080/",
          "height": 317
        },
        "id": "udZsKsHYCc1I",
        "outputId": "ccc74249-5a29-4d99-c29a-58f53077fa69"
      },
      "execution_count": 165,
      "outputs": [
        {
          "output_type": "display_data",
          "data": {
            "image/png": "[encoded data removed]",
            "text/plain": [
              "<Figure size 864x288 with 3 Axes>"
            ]
          },
          "metadata": {
            "needs_background": "light"
          }
        }
      ]
    },
    {
      "cell_type": "code",
      "source": [
        "toke_data = [train_q_token_data, val_q_token_data, test_q_token_data]\n",
        "fig, axes = plt.subplots(nrows=1, ncols=3, figsize=(12, 4))\n",
        "for token_data, ax, label, color in zip(toke_data, axes, labels, colors):\n",
        "  word_token = token_data.query(\"pos != 'PUNCT'\").pos.value_counts()\n",
        "  word_token = word_token / word_token.sum()\n",
        "  word_token.head(10).plot(ax=ax, kind=\"bar\", label=label, color=color, zorder=3)\n",
        "  ax.grid(zorder=0)\n",
        "  if label == 'train':\n",
        "    ax.set_ylabel('Percentage')\n",
        "fig.legend()\n",
        "fig.suptitle('Top 10 most frequent POS tags in questions')\n",
        "plt.savefig('/content/drive/MyDrive/11777/top10qpos.pdf')"
      ],
      "metadata": {
        "colab": {
          "base_uri": "https://localhost:8080/",
          "height": 319
        },
        "id": "8aHvQtPlDd2O",
        "outputId": "282e223f-5834-4a36-aee0-537acbdd62ca"
      },
      "execution_count": 170,
      "outputs": [
        {
          "output_type": "display_data",
          "data": {
            "image/png": "[encoded data removed]",
            "text/plain": [
              "<Figure size 864x288 with 3 Axes>"
            ]
          },
          "metadata": {
            "needs_background": "light"
          }
        }
      ]
    },
    {
      "cell_type": "code",
      "source": [
        "answer_splits = [expanded_train_answers, expanded_val_answers]\n",
        "\n",
        "fig, axes = plt.subplots(nrows=1, ncols=2, figsize=(8, 4))\n",
        "for expanded_answers, ax, label, color in zip(answer_splits, axes, labels[:2], colors[:2]):\n",
        "  counts = expanded_answers.value.value_counts()\n",
        "  counts = counts / 10\n",
        "  counts.head(10).plot(ax=ax, kind=\"bar\", label=label, color=color, zorder=3)\n",
        "  ax.grid(zorder=0)\n",
        "  if label == 'train':\n",
        "    ax.set_ylabel('Number of answers')\n",
        "fig.legend()\n",
        "fig.suptitle('Top 10 most frequent answers')\n",
        "plt.savefig('/content/drive/MyDrive/11777/top10a.pdf')"
      ],
      "metadata": {
        "colab": {
          "base_uri": "https://localhost:8080/",
          "height": 381
        },
        "id": "zxF9U1VGE3tv",
        "outputId": "94487970-d60a-4873-cc50-2787b4b3db44"
      },
      "execution_count": 203,
      "outputs": [
        {
          "output_type": "display_data",
          "data": {
            "image/png": "[encoded data removed]",
            "text/plain": [
              "<Figure size 576x288 with 2 Axes>"
            ]
          },
          "metadata": {
            "needs_background": "light"
          }
        }
      ]
    },
    {
      "cell_type": "code",
      "source": [
        "# # For each dataset, analyze answers and create graphs and metrics files\n",
        "# # Specifically, answer length, the most frequent answers, and the most frequent word classes in answers\n",
        "\n",
        "# def analyze_answers(expanded_answers, text_df, token_data, prefix, path):\n",
        "    \n",
        "#     avg_answer_len = token_data.groupby('doc_id').size().mean()\n",
        "#     median_answer_len = token_data.groupby('doc_id').size().median()\n",
        "#     std_dev_answer_len = token_data.groupby('doc_id').size().std()\n",
        "#     with open(path + prefix + 'answer_metrics.txt', 'w') as metrics_file:\n",
        "#         tsv_writer = csv.writer(metrics_file, delimiter='\\t')\n",
        "#         tsv_writer.writerow(['avg answer length: ' + \"%.2f\" % avg_answer_len])\n",
        "#         tsv_writer.writerow(['median answer length: ' + \"%.2f\" % median_answer_len])\n",
        "#         tsv_writer.writerow(['std dev of answer length: ' + \"%.2f\" % std_dev_answer_len])\n",
        "\n",
        "#     plt.clf()\n",
        "#     counts = expanded_val_answers.value.value_counts()\n",
        "#     counts = counts / 10\n",
        "#     counts.head(10).plot(kind=\"barh\", figsize=(32, 14), color='green', alpha=.7)\n",
        "#     plt.yticks(fontsize=10)\n",
        "#     plt.xticks(fontsize=10)\n",
        "#     plt.savefig(path + prefix + '10_most_frequent_answers.png')\n",
        "    \n",
        "#     plt.clf()\n",
        "#     word_token = token_data.query(\"pos != 'PUNCT'\").pos.value_counts()\n",
        "#     word_token = word_token / word_token.sum()\n",
        "#     ax = word_token.head(10).plot(kind=\"barh\", figsize=(24, 14), color='orange', alpha=.7)\n",
        "#     ax.invert_yaxis()\n",
        "#     plt.savefig(path + prefix + 'distribution_of_10_most_frequent_word_classes_in_answers.png')\n",
        "    \n",
        "    \n",
        "# # Note: may need to edit the file path\n",
        "# path = '/content/drive/MyDrive/11777/'\n",
        "# analyze_answers(expanded_val_answers, val_text, val_a_token_data, 'val_', path)\n",
        "# analyze_answers(expanded_train_answers, train_text, train_a_token_data, 'train_', path)"
      ],
      "metadata": {
        "id": "4H1HEBvVgjZ3"
      },
      "execution_count": 204,
      "outputs": []
    },
    {
      "cell_type": "code",
      "source": [
        "# spacy.explain('PART')"
      ],
      "metadata": {
        "id": "05JI9WgxxHYW"
      },
      "execution_count": null,
      "outputs": []
    }
  ]
}