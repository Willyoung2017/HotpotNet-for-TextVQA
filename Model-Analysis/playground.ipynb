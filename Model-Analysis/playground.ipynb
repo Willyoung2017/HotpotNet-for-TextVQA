{
 "cells": [
  {
   "cell_type": "code",
   "execution_count": 4,
   "metadata": {},
   "outputs": [],
   "source": [
    "import numpy as np\n",
    "import pandas as pd\n",
    "import json\n",
    "from evaluator import EvalAIAnswerProcessor, TextVQAAccuracyEvaluator\n",
    "import pickle"
   ]
  },
  {
   "cell_type": "code",
   "execution_count": 11,
   "metadata": {},
   "outputs": [
    {
     "name": "stdout",
     "output_type": "stream",
     "text": [
      "(5000, 14)\n",
      "      accu_hotpot-lorra  accu_hotpot-without-mmt  \\\n",
      "0                   1.0                      0.0   \n",
      "1                   0.0                      0.0   \n",
      "2                   0.0                      0.0   \n",
      "3                   0.0                      0.0   \n",
      "4                   0.3                      0.0   \n",
      "...                 ...                      ...   \n",
      "4995                0.3                      0.0   \n",
      "4996                0.0                      0.0   \n",
      "4997                0.0                      0.0   \n",
      "4998                0.0                      0.0   \n",
      "4999                0.0                      0.0   \n",
      "\n",
      "      accu_hotpot-without-object-label  accu_hotpot  accu_object  accu_ocr  \\\n",
      "0                                  0.0          0.9          1.0       1.0   \n",
      "1                                  0.0          0.0          0.0       0.0   \n",
      "2                                  0.0          0.0          0.0       0.0   \n",
      "3                                  0.0          0.0          0.0       0.0   \n",
      "4                                  0.0          0.0          0.0       0.3   \n",
      "...                                ...          ...          ...       ...   \n",
      "4995                               0.0          0.0          0.0       0.0   \n",
      "4996                               0.0          0.0          0.0       0.0   \n",
      "4997                               1.0          1.0          0.0       0.0   \n",
      "4998                               0.0          0.0          0.0       0.0   \n",
      "4999                               0.0          0.0          0.0       0.0   \n",
      "\n",
      "      accu_question  accu_lorra  accu_m4c  accu_tap  \n",
      "0               1.0         0.0       0.9       0.0  \n",
      "1               0.0         0.0       1.0       0.0  \n",
      "2               0.0         1.0       0.0       0.0  \n",
      "3               0.0         0.0       0.0       0.0  \n",
      "4               0.0         0.0       0.3       0.0  \n",
      "...             ...         ...       ...       ...  \n",
      "4995            0.0         0.3       0.6       0.0  \n",
      "4996            0.0         0.0       0.0       0.0  \n",
      "4997            0.0         0.0       1.0       0.0  \n",
      "4998            0.0         0.0       0.0       0.0  \n",
      "4999            0.0         0.0       0.0       0.0  \n",
      "\n",
      "[5000 rows x 10 columns]\n"
     ]
    }
   ],
   "source": [
    "gb = pd.read_csv(\"./gradebooks/grade_book_whole.csv\")\n",
    "print (gb.shape)\n",
    "print (gb.iloc[:, 4:])"
   ]
  },
  {
   "cell_type": "code",
   "execution_count": 17,
   "metadata": {},
   "outputs": [
    {
     "name": "stdout",
     "output_type": "stream",
     "text": [
      "question_id                                                                     34602\n",
      "question                                            what is the brand of this camera?\n",
      "answers                             ['nous les gosses', 'dakota', 'clos culombu', ...\n",
      "question_tokens                     ['what', 'is', 'the', 'brand', 'of', 'this', '...\n",
      "accu_hotpot-lorra                                                                 1.0\n",
      "accu_hotpot-without-mmt                                                           0.0\n",
      "accu_hotpot-without-object-label                                                  0.0\n",
      "accu_hotpot                                                                       0.9\n",
      "accu_object                                                                       1.0\n",
      "accu_ocr                                                                          1.0\n",
      "accu_question                                                                     1.0\n",
      "accu_lorra                                                                        0.0\n",
      "accu_m4c                                                                          0.9\n",
      "accu_tap                                                                          0.0\n",
      "Name: 0, dtype: object\n",
      "question_id                                                                     34605\n",
      "question                                           what brand liquor is on the right?\n",
      "answers                             ['bowmore ', 'bowmore', 'bowmore', 'bowmore', ...\n",
      "question_tokens                     ['what', 'brand', 'liquor', 'is', 'on', 'the',...\n",
      "accu_hotpot-lorra                                                                 0.0\n",
      "accu_hotpot-without-mmt                                                           0.0\n",
      "accu_hotpot-without-object-label                                                  0.0\n",
      "accu_hotpot                                                                       0.0\n",
      "accu_object                                                                       0.0\n",
      "accu_ocr                                                                          0.0\n",
      "accu_question                                                                     0.0\n",
      "accu_lorra                                                                        0.0\n",
      "accu_m4c                                                                          0.0\n",
      "accu_tap                                                                          0.0\n",
      "Name: 3, dtype: object\n"
     ]
    }
   ],
   "source": [
    "max = gb.iloc[:, 4:].max(axis = 1)\n",
    "min = gb.iloc[:, 4:].min(axis = 1)\n",
    "zero_one_gb = gb[max-min==1]\n",
    "print (zero_one_gb.iloc[0])\n",
    "all_zero_gb = gb[max+min==0]\n",
    "print (all_zero_gb.iloc[0])\n"
   ]
  },
  {
   "cell_type": "code",
   "execution_count": 28,
   "metadata": {},
   "outputs": [
    {
     "name": "stdout",
     "output_type": "stream",
     "text": [
      "0       0.0\n",
      "1       0.0\n",
      "2       0.0\n",
      "3       0.0\n",
      "4       0.0\n",
      "       ... \n",
      "4995    0.0\n",
      "4996    0.0\n",
      "4997    0.0\n",
      "4998    0.0\n",
      "4999    0.0\n",
      "Length: 5000, dtype: float64\n",
      "question_id                                                                     34643\n",
      "question                                                  was the ruler made in 2002?\n",
      "answers                             ['yes', 'yes', 'yes', 'yes', 'yes', '2002', 'y...\n",
      "question_tokens                         ['was', 'the', 'ruler', 'made', 'in', '2002']\n",
      "accu_hotpot-lorra                                                                 1.0\n",
      "accu_hotpot-without-mmt                                                           1.0\n",
      "accu_hotpot-without-object-label                                                  1.0\n",
      "accu_hotpot                                                                       1.0\n",
      "accu_object                                                                       0.0\n",
      "accu_ocr                                                                          0.3\n",
      "accu_question                                                                     1.0\n",
      "accu_lorra                                                                        1.0\n",
      "accu_m4c                                                                          1.0\n",
      "accu_tap                                                                          1.0\n",
      "Name: 41, dtype: object\n",
      "question_id                                                                     34643\n",
      "question                                                  was the ruler made in 2002?\n",
      "answers                             ['yes', 'yes', 'yes', 'yes', 'yes', '2002', 'y...\n",
      "question_tokens                         ['was', 'the', 'ruler', 'made', 'in', '2002']\n",
      "accu_hotpot-lorra                                                                 1.0\n",
      "accu_hotpot-without-mmt                                                           1.0\n",
      "accu_hotpot-without-object-label                                                  1.0\n",
      "accu_hotpot                                                                       1.0\n",
      "accu_object                                                                       0.0\n",
      "accu_ocr                                                                          0.3\n",
      "accu_question                                                                     1.0\n",
      "accu_lorra                                                                        1.0\n",
      "accu_m4c                                                                          1.0\n",
      "accu_tap                                                                          1.0\n",
      "worst_model                                                               accu_object\n",
      "Name: 41, dtype: object\n"
     ]
    },
    {
     "name": "stderr",
     "output_type": "stream",
     "text": [
      "/var/folders/1s/gdw_sfh525x0796jh_nnmx6r0000gn/T/ipykernel_73190/1396601520.py:5: SettingWithCopyWarning: \n",
      "A value is trying to be set on a copy of a slice from a DataFrame.\n",
      "Try using .loc[row_indexer,col_indexer] = value instead\n",
      "\n",
      "See the caveats in the documentation: https://pandas.pydata.org/pandas-docs/stable/user_guide/indexing.html#returning-a-view-versus-a-copy\n",
      "  only_zero_gb[\"worst_model\"] = only_zero_gb.iloc[:,4:].idxmin(axis=\"columns\")\n"
     ]
    }
   ],
   "source": [
    "sec_min = gb.iloc[:,4:].apply(lambda row: row.nsmallest(2).values[-1],axis=1)\n",
    "print(sec_min)\n",
    "only_zero_gb = gb[(min==0) & (sec_min>0)]\n",
    "print (only_zero_gb.iloc[0])\n",
    "only_zero_gb[\"worst_model\"] = only_zero_gb.iloc[:,4:].idxmin(axis=\"columns\")\n",
    "print (only_zero_gb.iloc[0])"
   ]
  }
 ],
 "metadata": {
  "interpreter": {
   "hash": "40d3a090f54c6569ab1632332b64b2c03c39dcf918b08424e98f38b5ae0af88f"
  },
  "kernelspec": {
   "display_name": "Python 3.8.11 ('base')",
   "language": "python",
   "name": "python3"
  },
  "language_info": {
   "codemirror_mode": {
    "name": "ipython",
    "version": 3
   },
   "file_extension": ".py",
   "mimetype": "text/x-python",
   "name": "python",
   "nbconvert_exporter": "python",
   "pygments_lexer": "ipython3",
   "version": "3.8.11"
  },
  "orig_nbformat": 4
 },
 "nbformat": 4,
 "nbformat_minor": 2
}
