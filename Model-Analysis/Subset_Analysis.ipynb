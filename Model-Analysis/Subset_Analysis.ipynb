{
 "cells": [
  {
   "cell_type": "code",
   "execution_count": 1,
   "metadata": {},
   "outputs": [],
   "source": [
    "import numpy as np\n",
    "import pandas as pd\n",
    "import json\n",
    "from evaluator import EvalAIAnswerProcessor, TextVQAAccuracyEvaluator\n",
    "import pickle\n",
    "from functools import reduce"
   ]
  },
  {
   "cell_type": "code",
   "execution_count": 2,
   "metadata": {},
   "outputs": [],
   "source": [
    "with open(\"model_preds.pickle\", \"rb\") as f:\n",
    "    model_preds = pickle.load(f)\n",
    "\n"
   ]
  },
  {
   "cell_type": "code",
   "execution_count": 33,
   "metadata": {},
   "outputs": [],
   "source": [
    "obj_q = open(\"./subsets/val_obj_question.txt\").read().split(\",\")\n",
    "obj_q = [int(o) for o in obj_q]\n",
    "pos_q = open(\"./subsets/val_pos_question.txt\").read().split(\",\")\n",
    "pos_q = [int(o) for o in pos_q]\n",
    "text_q = open(\"./subsets/val_require_reading.txt\").read().split(\",\")\n",
    "text_q = [int(o) for o in text_q]"
   ]
  },
  {
   "cell_type": "code",
   "execution_count": 3,
   "metadata": {},
   "outputs": [],
   "source": [
    "models = [\"lorra\", \"m4c\", \"tap\", \"hotpot-lorra\", \"hotpot-without-mmt\", \"hotpot-without-object-label\", \"hotpot\", \"object\", \"ocr\", \"question\"]\n",
    "grade_books = [\"whole\", \"pos\", \"obj\"]"
   ]
  },
  {
   "cell_type": "code",
   "execution_count": 4,
   "metadata": {},
   "outputs": [],
   "source": [
    "for g in grade_books:\n",
    "    df = pd.read_csv(\"./gradebooks/grade_book_\"+g+\".csv\", index_col=None).round(1)\n",
    "    vc = [df[\"accu_\"+m].value_counts().rename_axis(\"accu\").reset_index(name=m) for m in models]\n",
    "    dist = reduce(lambda x, y: pd.merge(x, y, on = 'accu', how=\"inner\"), vc)\n",
    "    dist = dist.sort_values(by=['accu'])\n",
    "    dist.to_csv(\"accu_dist_\"+g+\".csv\", index=False)"
   ]
  },
  {
   "cell_type": "code",
   "execution_count": 5,
   "metadata": {},
   "outputs": [],
   "source": [
    "whole_grade_books = pd.read_csv(\"./gradebooks/grade_book_whole.csv\")"
   ]
  },
  {
   "cell_type": "code",
   "execution_count": 6,
   "metadata": {},
   "outputs": [
    {
     "name": "stderr",
     "output_type": "stream",
     "text": [
      "/var/folders/1s/gdw_sfh525x0796jh_nnmx6r0000gn/T/ipykernel_12487/2293174205.py:8: SettingWithCopyWarning: \n",
      "A value is trying to be set on a copy of a slice from a DataFrame.\n",
      "Try using .loc[row_indexer,col_indexer] = value instead\n",
      "\n",
      "See the caveats in the documentation: https://pandas.pydata.org/pandas-docs/stable/user_guide/indexing.html#returning-a-view-versus-a-copy\n",
      "  unique_zero_gb[\"worst_model\"] = unique_zero_gb.iloc[:,4:].idxmin(axis=\"columns\")\n"
     ]
    }
   ],
   "source": [
    "max = whole_grade_books.iloc[:, 4:].max(axis = 1)\n",
    "min = whole_grade_books.iloc[:, 4:].min(axis = 1)\n",
    "sec_min = whole_grade_books.iloc[:,4:].apply(lambda row: row.nsmallest(2).values[-1],axis=1)\n",
    "\n",
    "zero_one_gb = whole_grade_books[max-min==1]\n",
    "all_zero_gb = whole_grade_books[max+min==0]\n",
    "unique_zero_gb = whole_grade_books[(min==0) & (sec_min>0)]\n",
    "unique_zero_gb[\"worst_model\"] = unique_zero_gb.iloc[:,4:].idxmin(axis=\"columns\")\n",
    "\n",
    "zero_one_gb.to_csv(\"./gradebooks/grade_book_zero_one.csv\", index=False)\n",
    "all_zero_gb.to_csv(\"./gradebooks/grade_book_all_zero.csv\", index=False)\n",
    "unique_zero_gb.to_csv(\"./gradebooks/grade_book_unique_zero.csv\", index=False)"
   ]
  },
  {
   "cell_type": "code",
   "execution_count": 23,
   "metadata": {},
   "outputs": [],
   "source": [
    "unique_zero_gb_with_pred = unique_zero_gb.copy()\n",
    "zero_one_gb_with_pred = zero_one_gb.copy()\n",
    "all_zero_gb_with_pred = all_zero_gb.copy()"
   ]
  },
  {
   "cell_type": "code",
   "execution_count": 24,
   "metadata": {},
   "outputs": [
    {
     "name": "stdout",
     "output_type": "stream",
     "text": [
      "Index(['question_id', 'image_id', 'prediction', 'pred_source', 'question',\n",
      "       'answers', 'question_tokens', 'accu_hotpot'],\n",
      "      dtype='object')\n"
     ]
    }
   ],
   "source": [
    "print (model_preds[\"multimodal-baselines\"][\"hotpot\"].keys())\n",
    "que_img = model_preds[\"multimodal-baselines\"][\"hotpot\"][[\"question_id\", \"image_id\"]]"
   ]
  },
  {
   "cell_type": "code",
   "execution_count": 25,
   "metadata": {},
   "outputs": [],
   "source": [
    "for k, v in model_preds.items():\n",
    "    for i in v.keys():\n",
    "        temp = v[i].rename(columns={\"prediction\":\"pred_\"+i, \"pred_source\":\"pred_source_\"+i})\n",
    "        unique_zero_gb_with_pred = unique_zero_gb_with_pred.merge(temp[[\"question_id\", \"pred_\"+i, \"pred_source_\"+i]], on=\"question_id\", how=\"inner\")\n",
    "        zero_one_gb_with_pred = zero_one_gb_with_pred.merge(temp[[\"question_id\", \"pred_\"+i, \"pred_source_\"+i]], on=\"question_id\", how=\"inner\")\n",
    "        all_zero_gb_with_pred = all_zero_gb_with_pred.merge(temp[[\"question_id\", \"pred_\"+i, \"pred_source_\"+i]], on=\"question_id\", how=\"inner\")"
   ]
  },
  {
   "cell_type": "code",
   "execution_count": 26,
   "metadata": {},
   "outputs": [],
   "source": [
    "unique_zero_gb_with_pred = unique_zero_gb_with_pred.merge(que_img, on=\"question_id\", how=\"inner\")\n",
    "zero_one_gb_with_pred = zero_one_gb_with_pred.merge(que_img, on=\"question_id\", how=\"inner\")\n",
    "all_zero_gb_with_pred = all_zero_gb_with_pred.merge(que_img, on=\"question_id\", how=\"inner\")"
   ]
  },
  {
   "cell_type": "code",
   "execution_count": 27,
   "metadata": {},
   "outputs": [
    {
     "name": "stdout",
     "output_type": "stream",
     "text": [
      "Index(['question_id', 'question', 'answers', 'question_tokens',\n",
      "       'accu_hotpot-lorra', 'accu_hotpot-without-mmt',\n",
      "       'accu_hotpot-without-object-label', 'accu_hotpot', 'accu_object',\n",
      "       'accu_ocr', 'accu_question', 'accu_lorra', 'accu_m4c', 'accu_tap',\n",
      "       'worst_model', 'pred_hotpot-lorra', 'pred_source_hotpot-lorra',\n",
      "       'pred_hotpot-without-mmt', 'pred_source_hotpot-without-mmt',\n",
      "       'pred_hotpot-without-object-label',\n",
      "       'pred_source_hotpot-without-object-label', 'pred_hotpot',\n",
      "       'pred_source_hotpot', 'pred_object', 'pred_source_object', 'pred_ocr',\n",
      "       'pred_source_ocr', 'pred_question', 'pred_source_question',\n",
      "       'pred_lorra', 'pred_source_lorra', 'pred_m4c', 'pred_source_m4c',\n",
      "       'pred_tap', 'pred_source_tap', 'image_id'],\n",
      "      dtype='object')\n",
      "Index(['question_id', 'question', 'answers', 'question_tokens',\n",
      "       'accu_hotpot-lorra', 'accu_hotpot-without-mmt',\n",
      "       'accu_hotpot-without-object-label', 'accu_hotpot', 'accu_object',\n",
      "       'accu_ocr', 'accu_question', 'accu_lorra', 'accu_m4c', 'accu_tap',\n",
      "       'pred_hotpot-lorra', 'pred_source_hotpot-lorra',\n",
      "       'pred_hotpot-without-mmt', 'pred_source_hotpot-without-mmt',\n",
      "       'pred_hotpot-without-object-label',\n",
      "       'pred_source_hotpot-without-object-label', 'pred_hotpot',\n",
      "       'pred_source_hotpot', 'pred_object', 'pred_source_object', 'pred_ocr',\n",
      "       'pred_source_ocr', 'pred_question', 'pred_source_question',\n",
      "       'pred_lorra', 'pred_source_lorra', 'pred_m4c', 'pred_source_m4c',\n",
      "       'pred_tap', 'pred_source_tap', 'image_id'],\n",
      "      dtype='object')\n",
      "Index(['question_id', 'question', 'answers', 'question_tokens',\n",
      "       'accu_hotpot-lorra', 'accu_hotpot-without-mmt',\n",
      "       'accu_hotpot-without-object-label', 'accu_hotpot', 'accu_object',\n",
      "       'accu_ocr', 'accu_question', 'accu_lorra', 'accu_m4c', 'accu_tap',\n",
      "       'pred_hotpot-lorra', 'pred_source_hotpot-lorra',\n",
      "       'pred_hotpot-without-mmt', 'pred_source_hotpot-without-mmt',\n",
      "       'pred_hotpot-without-object-label',\n",
      "       'pred_source_hotpot-without-object-label', 'pred_hotpot',\n",
      "       'pred_source_hotpot', 'pred_object', 'pred_source_object', 'pred_ocr',\n",
      "       'pred_source_ocr', 'pred_question', 'pred_source_question',\n",
      "       'pred_lorra', 'pred_source_lorra', 'pred_m4c', 'pred_source_m4c',\n",
      "       'pred_tap', 'pred_source_tap', 'image_id'],\n",
      "      dtype='object')\n"
     ]
    }
   ],
   "source": [
    "print (unique_zero_gb_with_pred.columns)\n",
    "print (zero_one_gb_with_pred.columns)\n",
    "print (all_zero_gb_with_pred.columns)"
   ]
  },
  {
   "cell_type": "code",
   "execution_count": 29,
   "metadata": {},
   "outputs": [
    {
     "name": "stdout",
     "output_type": "stream",
     "text": [
      "(210, 36)\n",
      "(2803, 35)\n",
      "(1240, 35)\n"
     ]
    }
   ],
   "source": [
    "print (unique_zero_gb_with_pred.shape)\n",
    "print (zero_one_gb_with_pred.shape)\n",
    "print (all_zero_gb_with_pred.shape)\n",
    "unique_zero_gb_with_pred.to_csv(\"./gradebooks/grade_book_unique_zero_with_pred.csv\", index=False)\n",
    "zero_one_gb_with_pred.to_csv(\"./gradebooks/grade_book_zero_one_with_pred.csv\", index=False)\n",
    "all_zero_gb_with_pred.to_csv(\"./gradebooks/grade_book_all_zero_with_pred.csv\", index=False)"
   ]
  },
  {
   "cell_type": "code",
   "execution_count": 35,
   "metadata": {},
   "outputs": [
    {
     "name": "stdout",
     "output_type": "stream",
     "text": [
      "(519, 35) 2024\n",
      "(129, 35) 495\n",
      "(1213, 35) 4743\n"
     ]
    }
   ],
   "source": [
    "print (all_zero_gb_with_pred[all_zero_gb_with_pred[\"question_id\"].isin(obj_q)].shape, len(obj_q))\n",
    "print (all_zero_gb_with_pred[all_zero_gb_with_pred[\"question_id\"].isin(pos_q)].shape, len(pos_q))\n",
    "print (all_zero_gb_with_pred[all_zero_gb_with_pred[\"question_id\"].isin(text_q)].shape, len(text_q))"
   ]
  },
  {
   "cell_type": "code",
   "execution_count": 36,
   "metadata": {},
   "outputs": [],
   "source": [
    "hard_question_obj = all_zero_gb_with_pred[all_zero_gb_with_pred[\"question_id\"].isin(obj_q)]\n",
    "hard_question_pos = all_zero_gb_with_pred[all_zero_gb_with_pred[\"question_id\"].isin(pos_q)]\n",
    "hard_question_text = all_zero_gb_with_pred[all_zero_gb_with_pred[\"question_id\"].isin(text_q)]\n",
    "\n",
    "hard_question_obj.to_csv(\"./gradebooks/grade_book_hard_obj.csv\", index=False)\n",
    "hard_question_pos.to_csv(\"./gradebooks/grade_book_hard_pos.csv\", index=False)\n",
    "hard_question_text.to_csv(\"./gradebooks/grade_book_hard_text.csv\", index=False)"
   ]
  }
 ],
 "metadata": {
  "interpreter": {
   "hash": "40d3a090f54c6569ab1632332b64b2c03c39dcf918b08424e98f38b5ae0af88f"
  },
  "kernelspec": {
   "display_name": "Python 3.8.11 ('base')",
   "language": "python",
   "name": "python3"
  },
  "language_info": {
   "codemirror_mode": {
    "name": "ipython",
    "version": 3
   },
   "file_extension": ".py",
   "mimetype": "text/x-python",
   "name": "python",
   "nbconvert_exporter": "python",
   "pygments_lexer": "ipython3",
   "version": "3.8.11"
  },
  "orig_nbformat": 4
 },
 "nbformat": 4,
 "nbformat_minor": 2
}
